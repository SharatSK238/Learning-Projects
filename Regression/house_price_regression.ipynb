{
 "cells": [
  {
   "cell_type": "markdown",
   "id": "c56b95fa",
   "metadata": {},
   "source": [
    "## Importing Required Libraries"
   ]
  },
  {
   "cell_type": "code",
   "execution_count": 106,
   "id": "67fd7402",
   "metadata": {},
   "outputs": [],
   "source": [
    "import pandas as pd\n",
    "import numpy as np\n",
    "import seaborn as sns\n",
    "import matplotlib.pyplot as plt\n",
    "\n",
    "from category_encoders import OneHotEncoder\n",
    "from sklearn.preprocessing import MinMaxScaler\n",
    "\n",
    "# Model Performance and Spliting\n",
    "from sklearn.model_selection import train_test_split,cross_val_score,RandomizedSearchCV\n",
    "from sklearn.metrics import mean_squared_error,r2_score\n",
    "\n",
    "from sklearn.linear_model import LinearRegression, Lasso, ElasticNet, Ridge\n",
    "from sklearn.tree import DecisionTreeRegressor\n",
    "from sklearn.ensemble import RandomForestRegressor\n",
    "from sklearn.ensemble import GradientBoostingRegressor\n",
    "import statsmodels.api as smf\n",
    "\n",
    "from warnings import filterwarnings\n",
    "filterwarnings('ignore')"
   ]
  },
  {
   "cell_type": "markdown",
   "id": "55351667",
   "metadata": {},
   "source": [
    "## Creating DataFrame & Data Understanding"
   ]
  },
  {
   "cell_type": "code",
   "execution_count": 2,
   "id": "a0096b05",
   "metadata": {},
   "outputs": [],
   "source": [
    "# id - Unique ID for each home sold\n",
    "# date - Date of the home sale\n",
    "# price - Price of each home sold\n",
    "# bedrooms - Number of bedrooms\n",
    "# bathrooms - Number of bathrooms, where .5 accounts for a room with a toilet but no shower\n",
    "# sqft_living - Square footage of the apartment interior living space\n",
    "# sqft_lot - Square footage of the land space\n",
    "# floors - Number of floors\n",
    "# waterfront - A dummy variable for whether the apartment was overlooking the waterfront or not\n",
    "# view - An index from 0 to 4 of how good the view of the property was\n",
    "# condition - An index from 1 to 5 on the condition of the apartment,\n",
    "# grade - An index from 1 to 13, where 1-3 falls short of building construction and design, 7 has an average level of construction and design, and 11-13 have a high-quality level of construction and design.\n",
    "# sqft_above - The square footage of the interior housing space that is above ground level\n",
    "# sqft_basement - The square footage of the interior housing space that is below ground level\n",
    "# yr_built - The year the house was initially built\n",
    "# yr_renovated - The year of the house’s last renovation\n",
    "# zipcode - What zipcode area the house is in\n",
    "# lat - Lattitude\n",
    "# long - Longitude\n",
    "# sqft_living15 - The square footage of interior housing living space for the nearest 15 neighbors\n",
    "# sqft_lot15 - The square footage of the land lots of the nearest 15 neighbors"
   ]
  },
  {
   "cell_type": "code",
   "execution_count": 3,
   "id": "62d2b5b4",
   "metadata": {},
   "outputs": [
    {
     "data": {
      "text/html": [
       "<div>\n",
       "<style scoped>\n",
       "    .dataframe tbody tr th:only-of-type {\n",
       "        vertical-align: middle;\n",
       "    }\n",
       "\n",
       "    .dataframe tbody tr th {\n",
       "        vertical-align: top;\n",
       "    }\n",
       "\n",
       "    .dataframe thead th {\n",
       "        text-align: right;\n",
       "    }\n",
       "</style>\n",
       "<table border=\"1\" class=\"dataframe\">\n",
       "  <thead>\n",
       "    <tr style=\"text-align: right;\">\n",
       "      <th></th>\n",
       "      <th>id</th>\n",
       "      <th>date</th>\n",
       "      <th>price</th>\n",
       "      <th>bedrooms</th>\n",
       "      <th>bathrooms</th>\n",
       "      <th>sqft_living</th>\n",
       "      <th>sqft_lot</th>\n",
       "      <th>floors</th>\n",
       "      <th>waterfront</th>\n",
       "      <th>view</th>\n",
       "      <th>...</th>\n",
       "      <th>grade</th>\n",
       "      <th>sqft_above</th>\n",
       "      <th>sqft_basement</th>\n",
       "      <th>yr_built</th>\n",
       "      <th>yr_renovated</th>\n",
       "      <th>zipcode</th>\n",
       "      <th>lat</th>\n",
       "      <th>long</th>\n",
       "      <th>sqft_living15</th>\n",
       "      <th>sqft_lot15</th>\n",
       "    </tr>\n",
       "  </thead>\n",
       "  <tbody>\n",
       "    <tr>\n",
       "      <th>0</th>\n",
       "      <td>7129300520</td>\n",
       "      <td>20141013T000000</td>\n",
       "      <td>221900.0</td>\n",
       "      <td>3</td>\n",
       "      <td>1.00</td>\n",
       "      <td>1180</td>\n",
       "      <td>5650</td>\n",
       "      <td>1.0</td>\n",
       "      <td>0</td>\n",
       "      <td>0</td>\n",
       "      <td>...</td>\n",
       "      <td>7</td>\n",
       "      <td>1180.0</td>\n",
       "      <td>0</td>\n",
       "      <td>1955</td>\n",
       "      <td>0</td>\n",
       "      <td>98178</td>\n",
       "      <td>47.5112</td>\n",
       "      <td>-122.257</td>\n",
       "      <td>1340</td>\n",
       "      <td>5650</td>\n",
       "    </tr>\n",
       "    <tr>\n",
       "      <th>1</th>\n",
       "      <td>6414100192</td>\n",
       "      <td>20141209T000000</td>\n",
       "      <td>538000.0</td>\n",
       "      <td>3</td>\n",
       "      <td>2.25</td>\n",
       "      <td>2570</td>\n",
       "      <td>7242</td>\n",
       "      <td>2.0</td>\n",
       "      <td>0</td>\n",
       "      <td>0</td>\n",
       "      <td>...</td>\n",
       "      <td>7</td>\n",
       "      <td>2170.0</td>\n",
       "      <td>400</td>\n",
       "      <td>1951</td>\n",
       "      <td>1991</td>\n",
       "      <td>98125</td>\n",
       "      <td>47.7210</td>\n",
       "      <td>-122.319</td>\n",
       "      <td>1690</td>\n",
       "      <td>7639</td>\n",
       "    </tr>\n",
       "    <tr>\n",
       "      <th>2</th>\n",
       "      <td>5631500400</td>\n",
       "      <td>20150225T000000</td>\n",
       "      <td>180000.0</td>\n",
       "      <td>2</td>\n",
       "      <td>1.00</td>\n",
       "      <td>770</td>\n",
       "      <td>10000</td>\n",
       "      <td>1.0</td>\n",
       "      <td>0</td>\n",
       "      <td>0</td>\n",
       "      <td>...</td>\n",
       "      <td>6</td>\n",
       "      <td>770.0</td>\n",
       "      <td>0</td>\n",
       "      <td>1933</td>\n",
       "      <td>0</td>\n",
       "      <td>98028</td>\n",
       "      <td>47.7379</td>\n",
       "      <td>-122.233</td>\n",
       "      <td>2720</td>\n",
       "      <td>8062</td>\n",
       "    </tr>\n",
       "    <tr>\n",
       "      <th>3</th>\n",
       "      <td>2487200875</td>\n",
       "      <td>20141209T000000</td>\n",
       "      <td>604000.0</td>\n",
       "      <td>4</td>\n",
       "      <td>3.00</td>\n",
       "      <td>1960</td>\n",
       "      <td>5000</td>\n",
       "      <td>1.0</td>\n",
       "      <td>0</td>\n",
       "      <td>0</td>\n",
       "      <td>...</td>\n",
       "      <td>7</td>\n",
       "      <td>1050.0</td>\n",
       "      <td>910</td>\n",
       "      <td>1965</td>\n",
       "      <td>0</td>\n",
       "      <td>98136</td>\n",
       "      <td>47.5208</td>\n",
       "      <td>-122.393</td>\n",
       "      <td>1360</td>\n",
       "      <td>5000</td>\n",
       "    </tr>\n",
       "    <tr>\n",
       "      <th>4</th>\n",
       "      <td>1954400510</td>\n",
       "      <td>20150218T000000</td>\n",
       "      <td>510000.0</td>\n",
       "      <td>3</td>\n",
       "      <td>2.00</td>\n",
       "      <td>1680</td>\n",
       "      <td>8080</td>\n",
       "      <td>1.0</td>\n",
       "      <td>0</td>\n",
       "      <td>0</td>\n",
       "      <td>...</td>\n",
       "      <td>8</td>\n",
       "      <td>1680.0</td>\n",
       "      <td>0</td>\n",
       "      <td>1987</td>\n",
       "      <td>0</td>\n",
       "      <td>98074</td>\n",
       "      <td>47.6168</td>\n",
       "      <td>-122.045</td>\n",
       "      <td>1800</td>\n",
       "      <td>7503</td>\n",
       "    </tr>\n",
       "  </tbody>\n",
       "</table>\n",
       "<p>5 rows × 21 columns</p>\n",
       "</div>"
      ],
      "text/plain": [
       "           id             date     price  bedrooms  bathrooms  sqft_living  \\\n",
       "0  7129300520  20141013T000000  221900.0         3       1.00         1180   \n",
       "1  6414100192  20141209T000000  538000.0         3       2.25         2570   \n",
       "2  5631500400  20150225T000000  180000.0         2       1.00          770   \n",
       "3  2487200875  20141209T000000  604000.0         4       3.00         1960   \n",
       "4  1954400510  20150218T000000  510000.0         3       2.00         1680   \n",
       "\n",
       "   sqft_lot  floors  waterfront  view  ...  grade  sqft_above  sqft_basement  \\\n",
       "0      5650     1.0           0     0  ...      7      1180.0              0   \n",
       "1      7242     2.0           0     0  ...      7      2170.0            400   \n",
       "2     10000     1.0           0     0  ...      6       770.0              0   \n",
       "3      5000     1.0           0     0  ...      7      1050.0            910   \n",
       "4      8080     1.0           0     0  ...      8      1680.0              0   \n",
       "\n",
       "   yr_built  yr_renovated  zipcode      lat     long  sqft_living15  \\\n",
       "0      1955             0    98178  47.5112 -122.257           1340   \n",
       "1      1951          1991    98125  47.7210 -122.319           1690   \n",
       "2      1933             0    98028  47.7379 -122.233           2720   \n",
       "3      1965             0    98136  47.5208 -122.393           1360   \n",
       "4      1987             0    98074  47.6168 -122.045           1800   \n",
       "\n",
       "   sqft_lot15  \n",
       "0        5650  \n",
       "1        7639  \n",
       "2        8062  \n",
       "3        5000  \n",
       "4        7503  \n",
       "\n",
       "[5 rows x 21 columns]"
      ]
     },
     "execution_count": 3,
     "metadata": {},
     "output_type": "execute_result"
    }
   ],
   "source": [
    "df = pd.read_csv(\"kc_house_data.csv\")\n",
    "df.head(5)\n",
    "\n",
    "# id and zipcode columns will be dropped, only unique rows. (FIXED)\n",
    "# date column will be transformed.                          (FIXED)\n",
    "# age of the house can be created as a feature (yr_built - date)\n",
    "# bathrooms and floors have floating point values, must be fixed.\n",
    "# date feature must be transformed into \"datetime\" data type and month, day, year features will be created. (FIXED)\n",
    "# lat and long features represent the house's geo-location must be fixed as a one value or can be dropped (FIXED)"
   ]
  },
  {
   "cell_type": "code",
   "execution_count": 4,
   "id": "6d241a19",
   "metadata": {},
   "outputs": [
    {
     "name": "stdout",
     "output_type": "stream",
     "text": [
      "<class 'pandas.core.frame.DataFrame'>\n",
      "RangeIndex: 21613 entries, 0 to 21612\n",
      "Data columns (total 21 columns):\n",
      " #   Column         Non-Null Count  Dtype  \n",
      "---  ------         --------------  -----  \n",
      " 0   id             21613 non-null  int64  \n",
      " 1   date           21613 non-null  object \n",
      " 2   price          21613 non-null  float64\n",
      " 3   bedrooms       21613 non-null  int64  \n",
      " 4   bathrooms      21613 non-null  float64\n",
      " 5   sqft_living    21613 non-null  int64  \n",
      " 6   sqft_lot       21613 non-null  int64  \n",
      " 7   floors         21613 non-null  float64\n",
      " 8   waterfront     21613 non-null  int64  \n",
      " 9   view           21613 non-null  int64  \n",
      " 10  condition      21613 non-null  int64  \n",
      " 11  grade          21613 non-null  int64  \n",
      " 12  sqft_above     21611 non-null  float64\n",
      " 13  sqft_basement  21613 non-null  int64  \n",
      " 14  yr_built       21613 non-null  int64  \n",
      " 15  yr_renovated   21613 non-null  int64  \n",
      " 16  zipcode        21613 non-null  int64  \n",
      " 17  lat            21613 non-null  float64\n",
      " 18  long           21613 non-null  float64\n",
      " 19  sqft_living15  21613 non-null  int64  \n",
      " 20  sqft_lot15     21613 non-null  int64  \n",
      "dtypes: float64(6), int64(14), object(1)\n",
      "memory usage: 3.5+ MB\n"
     ]
    }
   ],
   "source": [
    "df.info()"
   ]
  },
  {
   "cell_type": "code",
   "execution_count": 5,
   "id": "f51fa2a1",
   "metadata": {},
   "outputs": [
    {
     "data": {
      "text/plain": [
       "(21613, 21)"
      ]
     },
     "execution_count": 5,
     "metadata": {},
     "output_type": "execute_result"
    }
   ],
   "source": [
    "df.shape # 21613 rows and 21 columns"
   ]
  },
  {
   "cell_type": "code",
   "execution_count": 6,
   "id": "8429c77f",
   "metadata": {},
   "outputs": [
    {
     "data": {
      "text/html": [
       "<div>\n",
       "<style scoped>\n",
       "    .dataframe tbody tr th:only-of-type {\n",
       "        vertical-align: middle;\n",
       "    }\n",
       "\n",
       "    .dataframe tbody tr th {\n",
       "        vertical-align: top;\n",
       "    }\n",
       "\n",
       "    .dataframe thead th {\n",
       "        text-align: right;\n",
       "    }\n",
       "</style>\n",
       "<table border=\"1\" class=\"dataframe\">\n",
       "  <thead>\n",
       "    <tr style=\"text-align: right;\">\n",
       "      <th></th>\n",
       "      <th>count</th>\n",
       "      <th>mean</th>\n",
       "      <th>std</th>\n",
       "      <th>min</th>\n",
       "      <th>25%</th>\n",
       "      <th>50%</th>\n",
       "      <th>75%</th>\n",
       "      <th>max</th>\n",
       "    </tr>\n",
       "  </thead>\n",
       "  <tbody>\n",
       "    <tr>\n",
       "      <th>id</th>\n",
       "      <td>21613.0</td>\n",
       "      <td>4.580302e+09</td>\n",
       "      <td>2.876566e+09</td>\n",
       "      <td>1.000102e+06</td>\n",
       "      <td>2.123049e+09</td>\n",
       "      <td>3.904930e+09</td>\n",
       "      <td>7.308900e+09</td>\n",
       "      <td>9.900000e+09</td>\n",
       "    </tr>\n",
       "    <tr>\n",
       "      <th>price</th>\n",
       "      <td>21613.0</td>\n",
       "      <td>5.400881e+05</td>\n",
       "      <td>3.671272e+05</td>\n",
       "      <td>7.500000e+04</td>\n",
       "      <td>3.219500e+05</td>\n",
       "      <td>4.500000e+05</td>\n",
       "      <td>6.450000e+05</td>\n",
       "      <td>7.700000e+06</td>\n",
       "    </tr>\n",
       "    <tr>\n",
       "      <th>bedrooms</th>\n",
       "      <td>21613.0</td>\n",
       "      <td>3.370842e+00</td>\n",
       "      <td>9.300618e-01</td>\n",
       "      <td>0.000000e+00</td>\n",
       "      <td>3.000000e+00</td>\n",
       "      <td>3.000000e+00</td>\n",
       "      <td>4.000000e+00</td>\n",
       "      <td>3.300000e+01</td>\n",
       "    </tr>\n",
       "    <tr>\n",
       "      <th>bathrooms</th>\n",
       "      <td>21613.0</td>\n",
       "      <td>2.114757e+00</td>\n",
       "      <td>7.701632e-01</td>\n",
       "      <td>0.000000e+00</td>\n",
       "      <td>1.750000e+00</td>\n",
       "      <td>2.250000e+00</td>\n",
       "      <td>2.500000e+00</td>\n",
       "      <td>8.000000e+00</td>\n",
       "    </tr>\n",
       "    <tr>\n",
       "      <th>sqft_living</th>\n",
       "      <td>21613.0</td>\n",
       "      <td>2.079900e+03</td>\n",
       "      <td>9.184409e+02</td>\n",
       "      <td>2.900000e+02</td>\n",
       "      <td>1.427000e+03</td>\n",
       "      <td>1.910000e+03</td>\n",
       "      <td>2.550000e+03</td>\n",
       "      <td>1.354000e+04</td>\n",
       "    </tr>\n",
       "    <tr>\n",
       "      <th>sqft_lot</th>\n",
       "      <td>21613.0</td>\n",
       "      <td>1.510697e+04</td>\n",
       "      <td>4.142051e+04</td>\n",
       "      <td>5.200000e+02</td>\n",
       "      <td>5.040000e+03</td>\n",
       "      <td>7.618000e+03</td>\n",
       "      <td>1.068800e+04</td>\n",
       "      <td>1.651359e+06</td>\n",
       "    </tr>\n",
       "    <tr>\n",
       "      <th>floors</th>\n",
       "      <td>21613.0</td>\n",
       "      <td>1.494309e+00</td>\n",
       "      <td>5.399889e-01</td>\n",
       "      <td>1.000000e+00</td>\n",
       "      <td>1.000000e+00</td>\n",
       "      <td>1.500000e+00</td>\n",
       "      <td>2.000000e+00</td>\n",
       "      <td>3.500000e+00</td>\n",
       "    </tr>\n",
       "    <tr>\n",
       "      <th>waterfront</th>\n",
       "      <td>21613.0</td>\n",
       "      <td>7.541757e-03</td>\n",
       "      <td>8.651720e-02</td>\n",
       "      <td>0.000000e+00</td>\n",
       "      <td>0.000000e+00</td>\n",
       "      <td>0.000000e+00</td>\n",
       "      <td>0.000000e+00</td>\n",
       "      <td>1.000000e+00</td>\n",
       "    </tr>\n",
       "    <tr>\n",
       "      <th>view</th>\n",
       "      <td>21613.0</td>\n",
       "      <td>2.343034e-01</td>\n",
       "      <td>7.663176e-01</td>\n",
       "      <td>0.000000e+00</td>\n",
       "      <td>0.000000e+00</td>\n",
       "      <td>0.000000e+00</td>\n",
       "      <td>0.000000e+00</td>\n",
       "      <td>4.000000e+00</td>\n",
       "    </tr>\n",
       "    <tr>\n",
       "      <th>condition</th>\n",
       "      <td>21613.0</td>\n",
       "      <td>3.409430e+00</td>\n",
       "      <td>6.507430e-01</td>\n",
       "      <td>1.000000e+00</td>\n",
       "      <td>3.000000e+00</td>\n",
       "      <td>3.000000e+00</td>\n",
       "      <td>4.000000e+00</td>\n",
       "      <td>5.000000e+00</td>\n",
       "    </tr>\n",
       "    <tr>\n",
       "      <th>grade</th>\n",
       "      <td>21613.0</td>\n",
       "      <td>7.656873e+00</td>\n",
       "      <td>1.175459e+00</td>\n",
       "      <td>1.000000e+00</td>\n",
       "      <td>7.000000e+00</td>\n",
       "      <td>7.000000e+00</td>\n",
       "      <td>8.000000e+00</td>\n",
       "      <td>1.300000e+01</td>\n",
       "    </tr>\n",
       "    <tr>\n",
       "      <th>sqft_above</th>\n",
       "      <td>21611.0</td>\n",
       "      <td>1.788396e+03</td>\n",
       "      <td>8.281282e+02</td>\n",
       "      <td>2.900000e+02</td>\n",
       "      <td>1.190000e+03</td>\n",
       "      <td>1.560000e+03</td>\n",
       "      <td>2.210000e+03</td>\n",
       "      <td>9.410000e+03</td>\n",
       "    </tr>\n",
       "    <tr>\n",
       "      <th>sqft_basement</th>\n",
       "      <td>21613.0</td>\n",
       "      <td>2.915090e+02</td>\n",
       "      <td>4.425750e+02</td>\n",
       "      <td>0.000000e+00</td>\n",
       "      <td>0.000000e+00</td>\n",
       "      <td>0.000000e+00</td>\n",
       "      <td>5.600000e+02</td>\n",
       "      <td>4.820000e+03</td>\n",
       "    </tr>\n",
       "    <tr>\n",
       "      <th>yr_built</th>\n",
       "      <td>21613.0</td>\n",
       "      <td>1.971005e+03</td>\n",
       "      <td>2.937341e+01</td>\n",
       "      <td>1.900000e+03</td>\n",
       "      <td>1.951000e+03</td>\n",
       "      <td>1.975000e+03</td>\n",
       "      <td>1.997000e+03</td>\n",
       "      <td>2.015000e+03</td>\n",
       "    </tr>\n",
       "    <tr>\n",
       "      <th>yr_renovated</th>\n",
       "      <td>21613.0</td>\n",
       "      <td>8.440226e+01</td>\n",
       "      <td>4.016792e+02</td>\n",
       "      <td>0.000000e+00</td>\n",
       "      <td>0.000000e+00</td>\n",
       "      <td>0.000000e+00</td>\n",
       "      <td>0.000000e+00</td>\n",
       "      <td>2.015000e+03</td>\n",
       "    </tr>\n",
       "    <tr>\n",
       "      <th>zipcode</th>\n",
       "      <td>21613.0</td>\n",
       "      <td>9.807794e+04</td>\n",
       "      <td>5.350503e+01</td>\n",
       "      <td>9.800100e+04</td>\n",
       "      <td>9.803300e+04</td>\n",
       "      <td>9.806500e+04</td>\n",
       "      <td>9.811800e+04</td>\n",
       "      <td>9.819900e+04</td>\n",
       "    </tr>\n",
       "    <tr>\n",
       "      <th>lat</th>\n",
       "      <td>21613.0</td>\n",
       "      <td>4.756005e+01</td>\n",
       "      <td>1.385637e-01</td>\n",
       "      <td>4.715590e+01</td>\n",
       "      <td>4.747100e+01</td>\n",
       "      <td>4.757180e+01</td>\n",
       "      <td>4.767800e+01</td>\n",
       "      <td>4.777760e+01</td>\n",
       "    </tr>\n",
       "    <tr>\n",
       "      <th>long</th>\n",
       "      <td>21613.0</td>\n",
       "      <td>-1.222139e+02</td>\n",
       "      <td>1.408283e-01</td>\n",
       "      <td>-1.225190e+02</td>\n",
       "      <td>-1.223280e+02</td>\n",
       "      <td>-1.222300e+02</td>\n",
       "      <td>-1.221250e+02</td>\n",
       "      <td>-1.213150e+02</td>\n",
       "    </tr>\n",
       "    <tr>\n",
       "      <th>sqft_living15</th>\n",
       "      <td>21613.0</td>\n",
       "      <td>1.986552e+03</td>\n",
       "      <td>6.853913e+02</td>\n",
       "      <td>3.990000e+02</td>\n",
       "      <td>1.490000e+03</td>\n",
       "      <td>1.840000e+03</td>\n",
       "      <td>2.360000e+03</td>\n",
       "      <td>6.210000e+03</td>\n",
       "    </tr>\n",
       "    <tr>\n",
       "      <th>sqft_lot15</th>\n",
       "      <td>21613.0</td>\n",
       "      <td>1.276846e+04</td>\n",
       "      <td>2.730418e+04</td>\n",
       "      <td>6.510000e+02</td>\n",
       "      <td>5.100000e+03</td>\n",
       "      <td>7.620000e+03</td>\n",
       "      <td>1.008300e+04</td>\n",
       "      <td>8.712000e+05</td>\n",
       "    </tr>\n",
       "  </tbody>\n",
       "</table>\n",
       "</div>"
      ],
      "text/plain": [
       "                 count          mean           std           min  \\\n",
       "id             21613.0  4.580302e+09  2.876566e+09  1.000102e+06   \n",
       "price          21613.0  5.400881e+05  3.671272e+05  7.500000e+04   \n",
       "bedrooms       21613.0  3.370842e+00  9.300618e-01  0.000000e+00   \n",
       "bathrooms      21613.0  2.114757e+00  7.701632e-01  0.000000e+00   \n",
       "sqft_living    21613.0  2.079900e+03  9.184409e+02  2.900000e+02   \n",
       "sqft_lot       21613.0  1.510697e+04  4.142051e+04  5.200000e+02   \n",
       "floors         21613.0  1.494309e+00  5.399889e-01  1.000000e+00   \n",
       "waterfront     21613.0  7.541757e-03  8.651720e-02  0.000000e+00   \n",
       "view           21613.0  2.343034e-01  7.663176e-01  0.000000e+00   \n",
       "condition      21613.0  3.409430e+00  6.507430e-01  1.000000e+00   \n",
       "grade          21613.0  7.656873e+00  1.175459e+00  1.000000e+00   \n",
       "sqft_above     21611.0  1.788396e+03  8.281282e+02  2.900000e+02   \n",
       "sqft_basement  21613.0  2.915090e+02  4.425750e+02  0.000000e+00   \n",
       "yr_built       21613.0  1.971005e+03  2.937341e+01  1.900000e+03   \n",
       "yr_renovated   21613.0  8.440226e+01  4.016792e+02  0.000000e+00   \n",
       "zipcode        21613.0  9.807794e+04  5.350503e+01  9.800100e+04   \n",
       "lat            21613.0  4.756005e+01  1.385637e-01  4.715590e+01   \n",
       "long           21613.0 -1.222139e+02  1.408283e-01 -1.225190e+02   \n",
       "sqft_living15  21613.0  1.986552e+03  6.853913e+02  3.990000e+02   \n",
       "sqft_lot15     21613.0  1.276846e+04  2.730418e+04  6.510000e+02   \n",
       "\n",
       "                        25%           50%           75%           max  \n",
       "id             2.123049e+09  3.904930e+09  7.308900e+09  9.900000e+09  \n",
       "price          3.219500e+05  4.500000e+05  6.450000e+05  7.700000e+06  \n",
       "bedrooms       3.000000e+00  3.000000e+00  4.000000e+00  3.300000e+01  \n",
       "bathrooms      1.750000e+00  2.250000e+00  2.500000e+00  8.000000e+00  \n",
       "sqft_living    1.427000e+03  1.910000e+03  2.550000e+03  1.354000e+04  \n",
       "sqft_lot       5.040000e+03  7.618000e+03  1.068800e+04  1.651359e+06  \n",
       "floors         1.000000e+00  1.500000e+00  2.000000e+00  3.500000e+00  \n",
       "waterfront     0.000000e+00  0.000000e+00  0.000000e+00  1.000000e+00  \n",
       "view           0.000000e+00  0.000000e+00  0.000000e+00  4.000000e+00  \n",
       "condition      3.000000e+00  3.000000e+00  4.000000e+00  5.000000e+00  \n",
       "grade          7.000000e+00  7.000000e+00  8.000000e+00  1.300000e+01  \n",
       "sqft_above     1.190000e+03  1.560000e+03  2.210000e+03  9.410000e+03  \n",
       "sqft_basement  0.000000e+00  0.000000e+00  5.600000e+02  4.820000e+03  \n",
       "yr_built       1.951000e+03  1.975000e+03  1.997000e+03  2.015000e+03  \n",
       "yr_renovated   0.000000e+00  0.000000e+00  0.000000e+00  2.015000e+03  \n",
       "zipcode        9.803300e+04  9.806500e+04  9.811800e+04  9.819900e+04  \n",
       "lat            4.747100e+01  4.757180e+01  4.767800e+01  4.777760e+01  \n",
       "long          -1.223280e+02 -1.222300e+02 -1.221250e+02 -1.213150e+02  \n",
       "sqft_living15  1.490000e+03  1.840000e+03  2.360000e+03  6.210000e+03  \n",
       "sqft_lot15     5.100000e+03  7.620000e+03  1.008300e+04  8.712000e+05  "
      ]
     },
     "execution_count": 6,
     "metadata": {},
     "output_type": "execute_result"
    }
   ],
   "source": [
    "df.describe().T"
   ]
  },
  {
   "cell_type": "markdown",
   "id": "10898182",
   "metadata": {},
   "source": [
    "## Data Preprocessing - Feature Engineering - EDA"
   ]
  },
  {
   "cell_type": "code",
   "execution_count": 7,
   "id": "a2e33cf0",
   "metadata": {},
   "outputs": [
    {
     "data": {
      "text/plain": [
       "True"
      ]
     },
     "execution_count": 7,
     "metadata": {},
     "output_type": "execute_result"
    }
   ],
   "source": [
    "df.isnull().values.any() # There are missing values."
   ]
  },
  {
   "cell_type": "code",
   "execution_count": 8,
   "id": "869e05ff",
   "metadata": {},
   "outputs": [
    {
     "data": {
      "text/plain": [
       "False"
      ]
     },
     "execution_count": 8,
     "metadata": {},
     "output_type": "execute_result"
    }
   ],
   "source": [
    "df.duplicated().any() # There is no duplication."
   ]
  },
  {
   "cell_type": "code",
   "execution_count": 9,
   "id": "bd56e776",
   "metadata": {},
   "outputs": [
    {
     "data": {
      "text/plain": [
       "id               False\n",
       "date             False\n",
       "price            False\n",
       "bedrooms         False\n",
       "bathrooms        False\n",
       "sqft_living      False\n",
       "sqft_lot         False\n",
       "floors           False\n",
       "waterfront       False\n",
       "view             False\n",
       "condition        False\n",
       "grade            False\n",
       "sqft_above       False\n",
       "sqft_basement    False\n",
       "yr_built         False\n",
       "yr_renovated     False\n",
       "zipcode          False\n",
       "lat              False\n",
       "long             False\n",
       "sqft_living15    False\n",
       "sqft_lot15       False\n",
       "dtype: bool"
      ]
     },
     "execution_count": 9,
     "metadata": {},
     "output_type": "execute_result"
    }
   ],
   "source": [
    "df.eq('?').any()"
   ]
  },
  {
   "cell_type": "code",
   "execution_count": 10,
   "id": "a9d4f42c",
   "metadata": {},
   "outputs": [
    {
     "data": {
      "text/plain": [
       "False"
      ]
     },
     "execution_count": 10,
     "metadata": {},
     "output_type": "execute_result"
    }
   ],
   "source": [
    "df['bathrooms'].eq('?').any()"
   ]
  },
  {
   "cell_type": "code",
   "execution_count": 11,
   "id": "45cb1fbe",
   "metadata": {},
   "outputs": [],
   "source": [
    "df.drop(['id','zipcode','lat','long'], axis=1, inplace=True) #droppping unnecessary features"
   ]
  },
  {
   "cell_type": "code",
   "execution_count": 12,
   "id": "a0fd58c5",
   "metadata": {},
   "outputs": [],
   "source": [
    "df['date'] = pd.to_datetime(df['date']) # date column defined as object, transformed it into datetime data type."
   ]
  },
  {
   "cell_type": "markdown",
   "id": "9c9a7b70",
   "metadata": {},
   "source": [
    "### Dealing with Missing Values (If Any)"
   ]
  },
  {
   "cell_type": "code",
   "execution_count": 13,
   "id": "f97e72b3",
   "metadata": {},
   "outputs": [
    {
     "data": {
      "text/plain": [
       "date             0\n",
       "price            0\n",
       "bedrooms         0\n",
       "bathrooms        0\n",
       "sqft_living      0\n",
       "sqft_lot         0\n",
       "floors           0\n",
       "waterfront       0\n",
       "view             0\n",
       "condition        0\n",
       "grade            0\n",
       "sqft_above       2\n",
       "sqft_basement    0\n",
       "yr_built         0\n",
       "yr_renovated     0\n",
       "sqft_living15    0\n",
       "sqft_lot15       0\n",
       "dtype: int64"
      ]
     },
     "execution_count": 13,
     "metadata": {},
     "output_type": "execute_result"
    }
   ],
   "source": [
    "df.isnull().sum() # 2 rows are missing in sqft_above feature only."
   ]
  },
  {
   "cell_type": "code",
   "execution_count": 14,
   "id": "3dbe7c45",
   "metadata": {},
   "outputs": [
    {
     "data": {
      "text/html": [
       "<div>\n",
       "<style scoped>\n",
       "    .dataframe tbody tr th:only-of-type {\n",
       "        vertical-align: middle;\n",
       "    }\n",
       "\n",
       "    .dataframe tbody tr th {\n",
       "        vertical-align: top;\n",
       "    }\n",
       "\n",
       "    .dataframe thead th {\n",
       "        text-align: right;\n",
       "    }\n",
       "</style>\n",
       "<table border=\"1\" class=\"dataframe\">\n",
       "  <thead>\n",
       "    <tr style=\"text-align: right;\">\n",
       "      <th></th>\n",
       "      <th>Missing_Percentage</th>\n",
       "    </tr>\n",
       "  </thead>\n",
       "  <tbody>\n",
       "    <tr>\n",
       "      <th>sqft_above</th>\n",
       "      <td>0.0093</td>\n",
       "    </tr>\n",
       "    <tr>\n",
       "      <th>date</th>\n",
       "      <td>0.0000</td>\n",
       "    </tr>\n",
       "    <tr>\n",
       "      <th>condition</th>\n",
       "      <td>0.0000</td>\n",
       "    </tr>\n",
       "    <tr>\n",
       "      <th>sqft_living15</th>\n",
       "      <td>0.0000</td>\n",
       "    </tr>\n",
       "    <tr>\n",
       "      <th>yr_renovated</th>\n",
       "      <td>0.0000</td>\n",
       "    </tr>\n",
       "  </tbody>\n",
       "</table>\n",
       "</div>"
      ],
      "text/plain": [
       "               Missing_Percentage\n",
       "sqft_above                 0.0093\n",
       "date                       0.0000\n",
       "condition                  0.0000\n",
       "sqft_living15              0.0000\n",
       "yr_renovated               0.0000"
      ]
     },
     "execution_count": 14,
     "metadata": {},
     "output_type": "execute_result"
    }
   ],
   "source": [
    "percentage_missing = round(df.isnull().sum() * 100 / len(df),4)\n",
    "missing_value_df = pd.DataFrame({'Missing_Percentage' : percentage_missing})\n",
    "missing_value_df.sort_values(by='Missing_Percentage', ascending = False).head()\n",
    "# 0.0093 percent of sqft_above feature are missing."
   ]
  },
  {
   "cell_type": "code",
   "execution_count": 15,
   "id": "8c1029eb",
   "metadata": {},
   "outputs": [
    {
     "name": "stdout",
     "output_type": "stream",
     "text": [
      "Row count of the dataset before dropping the missing values: 21613\n",
      "Row count of the dataset after dropping the missing values: 21611\n"
     ]
    }
   ],
   "source": [
    "print(\"Row count of the dataset before dropping the missing values:\", df.shape[0])\n",
    "df.dropna(subset=['sqft_above'], inplace=True, axis=0) #dropping the missing rows.\n",
    "print(\"Row count of the dataset after dropping the missing values:\", df.shape[0])"
   ]
  },
  {
   "cell_type": "code",
   "execution_count": 16,
   "id": "a3fd2acf",
   "metadata": {},
   "outputs": [
    {
     "data": {
      "text/plain": [
       "False"
      ]
     },
     "execution_count": 16,
     "metadata": {},
     "output_type": "execute_result"
    }
   ],
   "source": [
    "df.isnull().values.any() # No more missing values to deal with."
   ]
  },
  {
   "cell_type": "markdown",
   "id": "5f531ac7",
   "metadata": {},
   "source": [
    "## Feature Engineering"
   ]
  },
  {
   "cell_type": "code",
   "execution_count": 17,
   "id": "e4c1c9f0",
   "metadata": {},
   "outputs": [],
   "source": [
    "df['date_year'] = df['date'].dt.year #creating date_year feature\n",
    "df['date_month'] = df['date'].dt.month #creating date_month feature\n",
    "df['date_day'] = df['date'].dt.day #creating date_day feature"
   ]
  },
  {
   "cell_type": "code",
   "execution_count": 18,
   "id": "18bb2656",
   "metadata": {},
   "outputs": [
    {
     "data": {
      "text/html": [
       "<div>\n",
       "<style scoped>\n",
       "    .dataframe tbody tr th:only-of-type {\n",
       "        vertical-align: middle;\n",
       "    }\n",
       "\n",
       "    .dataframe tbody tr th {\n",
       "        vertical-align: top;\n",
       "    }\n",
       "\n",
       "    .dataframe thead th {\n",
       "        text-align: right;\n",
       "    }\n",
       "</style>\n",
       "<table border=\"1\" class=\"dataframe\">\n",
       "  <thead>\n",
       "    <tr style=\"text-align: right;\">\n",
       "      <th></th>\n",
       "      <th>date</th>\n",
       "      <th>price</th>\n",
       "      <th>bedrooms</th>\n",
       "      <th>bathrooms</th>\n",
       "      <th>sqft_living</th>\n",
       "      <th>sqft_lot</th>\n",
       "      <th>floors</th>\n",
       "      <th>waterfront</th>\n",
       "      <th>view</th>\n",
       "      <th>condition</th>\n",
       "      <th>grade</th>\n",
       "      <th>sqft_above</th>\n",
       "      <th>sqft_basement</th>\n",
       "      <th>yr_built</th>\n",
       "      <th>yr_renovated</th>\n",
       "      <th>sqft_living15</th>\n",
       "      <th>sqft_lot15</th>\n",
       "      <th>date_year</th>\n",
       "      <th>date_month</th>\n",
       "      <th>date_day</th>\n",
       "    </tr>\n",
       "  </thead>\n",
       "  <tbody>\n",
       "    <tr>\n",
       "      <th>0</th>\n",
       "      <td>2014-10-13</td>\n",
       "      <td>221900.0</td>\n",
       "      <td>3</td>\n",
       "      <td>1.00</td>\n",
       "      <td>1180</td>\n",
       "      <td>5650</td>\n",
       "      <td>1.0</td>\n",
       "      <td>0</td>\n",
       "      <td>0</td>\n",
       "      <td>3</td>\n",
       "      <td>7</td>\n",
       "      <td>1180.0</td>\n",
       "      <td>0</td>\n",
       "      <td>1955</td>\n",
       "      <td>0</td>\n",
       "      <td>1340</td>\n",
       "      <td>5650</td>\n",
       "      <td>2014</td>\n",
       "      <td>10</td>\n",
       "      <td>13</td>\n",
       "    </tr>\n",
       "    <tr>\n",
       "      <th>1</th>\n",
       "      <td>2014-12-09</td>\n",
       "      <td>538000.0</td>\n",
       "      <td>3</td>\n",
       "      <td>2.25</td>\n",
       "      <td>2570</td>\n",
       "      <td>7242</td>\n",
       "      <td>2.0</td>\n",
       "      <td>0</td>\n",
       "      <td>0</td>\n",
       "      <td>3</td>\n",
       "      <td>7</td>\n",
       "      <td>2170.0</td>\n",
       "      <td>400</td>\n",
       "      <td>1951</td>\n",
       "      <td>1991</td>\n",
       "      <td>1690</td>\n",
       "      <td>7639</td>\n",
       "      <td>2014</td>\n",
       "      <td>12</td>\n",
       "      <td>9</td>\n",
       "    </tr>\n",
       "    <tr>\n",
       "      <th>2</th>\n",
       "      <td>2015-02-25</td>\n",
       "      <td>180000.0</td>\n",
       "      <td>2</td>\n",
       "      <td>1.00</td>\n",
       "      <td>770</td>\n",
       "      <td>10000</td>\n",
       "      <td>1.0</td>\n",
       "      <td>0</td>\n",
       "      <td>0</td>\n",
       "      <td>3</td>\n",
       "      <td>6</td>\n",
       "      <td>770.0</td>\n",
       "      <td>0</td>\n",
       "      <td>1933</td>\n",
       "      <td>0</td>\n",
       "      <td>2720</td>\n",
       "      <td>8062</td>\n",
       "      <td>2015</td>\n",
       "      <td>2</td>\n",
       "      <td>25</td>\n",
       "    </tr>\n",
       "    <tr>\n",
       "      <th>3</th>\n",
       "      <td>2014-12-09</td>\n",
       "      <td>604000.0</td>\n",
       "      <td>4</td>\n",
       "      <td>3.00</td>\n",
       "      <td>1960</td>\n",
       "      <td>5000</td>\n",
       "      <td>1.0</td>\n",
       "      <td>0</td>\n",
       "      <td>0</td>\n",
       "      <td>5</td>\n",
       "      <td>7</td>\n",
       "      <td>1050.0</td>\n",
       "      <td>910</td>\n",
       "      <td>1965</td>\n",
       "      <td>0</td>\n",
       "      <td>1360</td>\n",
       "      <td>5000</td>\n",
       "      <td>2014</td>\n",
       "      <td>12</td>\n",
       "      <td>9</td>\n",
       "    </tr>\n",
       "    <tr>\n",
       "      <th>4</th>\n",
       "      <td>2015-02-18</td>\n",
       "      <td>510000.0</td>\n",
       "      <td>3</td>\n",
       "      <td>2.00</td>\n",
       "      <td>1680</td>\n",
       "      <td>8080</td>\n",
       "      <td>1.0</td>\n",
       "      <td>0</td>\n",
       "      <td>0</td>\n",
       "      <td>3</td>\n",
       "      <td>8</td>\n",
       "      <td>1680.0</td>\n",
       "      <td>0</td>\n",
       "      <td>1987</td>\n",
       "      <td>0</td>\n",
       "      <td>1800</td>\n",
       "      <td>7503</td>\n",
       "      <td>2015</td>\n",
       "      <td>2</td>\n",
       "      <td>18</td>\n",
       "    </tr>\n",
       "  </tbody>\n",
       "</table>\n",
       "</div>"
      ],
      "text/plain": [
       "        date     price  bedrooms  bathrooms  sqft_living  sqft_lot  floors  \\\n",
       "0 2014-10-13  221900.0         3       1.00         1180      5650     1.0   \n",
       "1 2014-12-09  538000.0         3       2.25         2570      7242     2.0   \n",
       "2 2015-02-25  180000.0         2       1.00          770     10000     1.0   \n",
       "3 2014-12-09  604000.0         4       3.00         1960      5000     1.0   \n",
       "4 2015-02-18  510000.0         3       2.00         1680      8080     1.0   \n",
       "\n",
       "   waterfront  view  condition  grade  sqft_above  sqft_basement  yr_built  \\\n",
       "0           0     0          3      7      1180.0              0      1955   \n",
       "1           0     0          3      7      2170.0            400      1951   \n",
       "2           0     0          3      6       770.0              0      1933   \n",
       "3           0     0          5      7      1050.0            910      1965   \n",
       "4           0     0          3      8      1680.0              0      1987   \n",
       "\n",
       "   yr_renovated  sqft_living15  sqft_lot15  date_year  date_month  date_day  \n",
       "0             0           1340        5650       2014          10        13  \n",
       "1          1991           1690        7639       2014          12         9  \n",
       "2             0           2720        8062       2015           2        25  \n",
       "3             0           1360        5000       2014          12         9  \n",
       "4             0           1800        7503       2015           2        18  "
      ]
     },
     "execution_count": 18,
     "metadata": {},
     "output_type": "execute_result"
    }
   ],
   "source": [
    "df.head()"
   ]
  },
  {
   "cell_type": "markdown",
   "id": "1039dda7",
   "metadata": {},
   "source": [
    "### Creating \"season\" Feature"
   ]
  },
  {
   "cell_type": "code",
   "execution_count": 19,
   "id": "95850fc4",
   "metadata": {},
   "outputs": [],
   "source": [
    "df['season'] = ['WINTER' if (i==12) or (i==1) or (i==2)\n",
    "               else 'SPRING' if (i==3) or (i==4) or (i==5)\n",
    "               else 'SUMMER' if (i==6) or (i==7) or (i==8)\n",
    "               else 'AUTUMN' for i in df.date_month]"
   ]
  },
  {
   "cell_type": "code",
   "execution_count": 20,
   "id": "5469d04e",
   "metadata": {},
   "outputs": [
    {
     "data": {
      "text/plain": [
       "SPRING    6518\n",
       "SUMMER    6331\n",
       "AUTUMN    5063\n",
       "WINTER    3699\n",
       "Name: season, dtype: int64"
      ]
     },
     "execution_count": 20,
     "metadata": {},
     "output_type": "execute_result"
    }
   ],
   "source": [
    "df['season'].value_counts()"
   ]
  },
  {
   "cell_type": "markdown",
   "id": "bbcfae76",
   "metadata": {},
   "source": [
    "### Creating \"week\" Feature"
   ]
  },
  {
   "cell_type": "code",
   "execution_count": 21,
   "id": "37defb47",
   "metadata": {},
   "outputs": [],
   "source": [
    "df['week'] = ['FIRST_WEEK' if (i>=1) and (i<8)\n",
    "             else 'SECOND_WEEK' if (i>=8) and (i<15)\n",
    "             else 'THIRD_WEEK' if (i>=15) and (i<22)\n",
    "             else 'LAST_WEEK' for i in df.date_day]"
   ]
  },
  {
   "cell_type": "code",
   "execution_count": 22,
   "id": "4b2e2a2f",
   "metadata": {},
   "outputs": [
    {
     "data": {
      "text/plain": [
       "LAST_WEEK      6736\n",
       "SECOND_WEEK    5095\n",
       "THIRD_WEEK     4938\n",
       "FIRST_WEEK     4842\n",
       "Name: week, dtype: int64"
      ]
     },
     "execution_count": 22,
     "metadata": {},
     "output_type": "execute_result"
    }
   ],
   "source": [
    "df['week'].value_counts()"
   ]
  },
  {
   "cell_type": "markdown",
   "id": "96a87137",
   "metadata": {},
   "source": [
    "### Creating \"building_age\" Feature"
   ]
  },
  {
   "cell_type": "code",
   "execution_count": 23,
   "id": "9b4f8505",
   "metadata": {},
   "outputs": [
    {
     "data": {
      "text/html": [
       "<div>\n",
       "<style scoped>\n",
       "    .dataframe tbody tr th:only-of-type {\n",
       "        vertical-align: middle;\n",
       "    }\n",
       "\n",
       "    .dataframe tbody tr th {\n",
       "        vertical-align: top;\n",
       "    }\n",
       "\n",
       "    .dataframe thead th {\n",
       "        text-align: right;\n",
       "    }\n",
       "</style>\n",
       "<table border=\"1\" class=\"dataframe\">\n",
       "  <thead>\n",
       "    <tr style=\"text-align: right;\">\n",
       "      <th></th>\n",
       "      <th>date</th>\n",
       "      <th>price</th>\n",
       "      <th>bedrooms</th>\n",
       "      <th>bathrooms</th>\n",
       "      <th>sqft_living</th>\n",
       "      <th>sqft_lot</th>\n",
       "      <th>floors</th>\n",
       "      <th>waterfront</th>\n",
       "      <th>view</th>\n",
       "      <th>condition</th>\n",
       "      <th>...</th>\n",
       "      <th>sqft_living15</th>\n",
       "      <th>sqft_lot15</th>\n",
       "      <th>date_year</th>\n",
       "      <th>date_month</th>\n",
       "      <th>date_day</th>\n",
       "      <th>season</th>\n",
       "      <th>week</th>\n",
       "      <th>building_age</th>\n",
       "      <th>age_after_renovation</th>\n",
       "      <th>building_age_after_renovation</th>\n",
       "    </tr>\n",
       "  </thead>\n",
       "  <tbody>\n",
       "    <tr>\n",
       "      <th>0</th>\n",
       "      <td>2014-10-13</td>\n",
       "      <td>221900.0</td>\n",
       "      <td>3</td>\n",
       "      <td>1.00</td>\n",
       "      <td>1180</td>\n",
       "      <td>5650</td>\n",
       "      <td>1.0</td>\n",
       "      <td>0</td>\n",
       "      <td>0</td>\n",
       "      <td>3</td>\n",
       "      <td>...</td>\n",
       "      <td>1340</td>\n",
       "      <td>5650</td>\n",
       "      <td>2014</td>\n",
       "      <td>10</td>\n",
       "      <td>13</td>\n",
       "      <td>AUTUMN</td>\n",
       "      <td>SECOND_WEEK</td>\n",
       "      <td>59</td>\n",
       "      <td>0</td>\n",
       "      <td>59</td>\n",
       "    </tr>\n",
       "    <tr>\n",
       "      <th>1</th>\n",
       "      <td>2014-12-09</td>\n",
       "      <td>538000.0</td>\n",
       "      <td>3</td>\n",
       "      <td>2.25</td>\n",
       "      <td>2570</td>\n",
       "      <td>7242</td>\n",
       "      <td>2.0</td>\n",
       "      <td>0</td>\n",
       "      <td>0</td>\n",
       "      <td>3</td>\n",
       "      <td>...</td>\n",
       "      <td>1690</td>\n",
       "      <td>7639</td>\n",
       "      <td>2014</td>\n",
       "      <td>12</td>\n",
       "      <td>9</td>\n",
       "      <td>WINTER</td>\n",
       "      <td>SECOND_WEEK</td>\n",
       "      <td>63</td>\n",
       "      <td>40</td>\n",
       "      <td>23</td>\n",
       "    </tr>\n",
       "    <tr>\n",
       "      <th>2</th>\n",
       "      <td>2015-02-25</td>\n",
       "      <td>180000.0</td>\n",
       "      <td>2</td>\n",
       "      <td>1.00</td>\n",
       "      <td>770</td>\n",
       "      <td>10000</td>\n",
       "      <td>1.0</td>\n",
       "      <td>0</td>\n",
       "      <td>0</td>\n",
       "      <td>3</td>\n",
       "      <td>...</td>\n",
       "      <td>2720</td>\n",
       "      <td>8062</td>\n",
       "      <td>2015</td>\n",
       "      <td>2</td>\n",
       "      <td>25</td>\n",
       "      <td>WINTER</td>\n",
       "      <td>LAST_WEEK</td>\n",
       "      <td>82</td>\n",
       "      <td>0</td>\n",
       "      <td>82</td>\n",
       "    </tr>\n",
       "    <tr>\n",
       "      <th>3</th>\n",
       "      <td>2014-12-09</td>\n",
       "      <td>604000.0</td>\n",
       "      <td>4</td>\n",
       "      <td>3.00</td>\n",
       "      <td>1960</td>\n",
       "      <td>5000</td>\n",
       "      <td>1.0</td>\n",
       "      <td>0</td>\n",
       "      <td>0</td>\n",
       "      <td>5</td>\n",
       "      <td>...</td>\n",
       "      <td>1360</td>\n",
       "      <td>5000</td>\n",
       "      <td>2014</td>\n",
       "      <td>12</td>\n",
       "      <td>9</td>\n",
       "      <td>WINTER</td>\n",
       "      <td>SECOND_WEEK</td>\n",
       "      <td>49</td>\n",
       "      <td>0</td>\n",
       "      <td>49</td>\n",
       "    </tr>\n",
       "    <tr>\n",
       "      <th>4</th>\n",
       "      <td>2015-02-18</td>\n",
       "      <td>510000.0</td>\n",
       "      <td>3</td>\n",
       "      <td>2.00</td>\n",
       "      <td>1680</td>\n",
       "      <td>8080</td>\n",
       "      <td>1.0</td>\n",
       "      <td>0</td>\n",
       "      <td>0</td>\n",
       "      <td>3</td>\n",
       "      <td>...</td>\n",
       "      <td>1800</td>\n",
       "      <td>7503</td>\n",
       "      <td>2015</td>\n",
       "      <td>2</td>\n",
       "      <td>18</td>\n",
       "      <td>WINTER</td>\n",
       "      <td>THIRD_WEEK</td>\n",
       "      <td>28</td>\n",
       "      <td>0</td>\n",
       "      <td>28</td>\n",
       "    </tr>\n",
       "  </tbody>\n",
       "</table>\n",
       "<p>5 rows × 25 columns</p>\n",
       "</div>"
      ],
      "text/plain": [
       "        date     price  bedrooms  bathrooms  sqft_living  sqft_lot  floors  \\\n",
       "0 2014-10-13  221900.0         3       1.00         1180      5650     1.0   \n",
       "1 2014-12-09  538000.0         3       2.25         2570      7242     2.0   \n",
       "2 2015-02-25  180000.0         2       1.00          770     10000     1.0   \n",
       "3 2014-12-09  604000.0         4       3.00         1960      5000     1.0   \n",
       "4 2015-02-18  510000.0         3       2.00         1680      8080     1.0   \n",
       "\n",
       "   waterfront  view  condition  ...  sqft_living15  sqft_lot15  date_year  \\\n",
       "0           0     0          3  ...           1340        5650       2014   \n",
       "1           0     0          3  ...           1690        7639       2014   \n",
       "2           0     0          3  ...           2720        8062       2015   \n",
       "3           0     0          5  ...           1360        5000       2014   \n",
       "4           0     0          3  ...           1800        7503       2015   \n",
       "\n",
       "   date_month  date_day  season         week  building_age  \\\n",
       "0          10        13  AUTUMN  SECOND_WEEK            59   \n",
       "1          12         9  WINTER  SECOND_WEEK            63   \n",
       "2           2        25  WINTER    LAST_WEEK            82   \n",
       "3          12         9  WINTER  SECOND_WEEK            49   \n",
       "4           2        18  WINTER   THIRD_WEEK            28   \n",
       "\n",
       "   age_after_renovation  building_age_after_renovation  \n",
       "0                     0                             59  \n",
       "1                    40                             23  \n",
       "2                     0                             82  \n",
       "3                     0                             49  \n",
       "4                     0                             28  \n",
       "\n",
       "[5 rows x 25 columns]"
      ]
     },
     "execution_count": 23,
     "metadata": {},
     "output_type": "execute_result"
    }
   ],
   "source": [
    "df['building_age'] = df['date_year'] - df['yr_built'] #calculating the age of the buildings\n",
    "df['age_after_renovation'] = df['yr_renovated'] - df['yr_built'] #calculating the age of building after renovation.\n",
    "df['age_after_renovation'] =[0 if i <=0 else i for i in df['age_after_renovation']] # prevents negative values\n",
    "df['building_age_after_renovation'] = df['building_age'] - df['age_after_renovation'] #building age after renovation\n",
    "df.head()"
   ]
  },
  {
   "cell_type": "markdown",
   "id": "e59aee37",
   "metadata": {},
   "source": [
    "### Feature Engineering for 'grade' Feature"
   ]
  },
  {
   "cell_type": "code",
   "execution_count": 24,
   "id": "bce88d85",
   "metadata": {},
   "outputs": [
    {
     "name": "stdout",
     "output_type": "stream",
     "text": [
      "7     8980\n",
      "8     6067\n",
      "9     2615\n",
      "6     2038\n",
      "10    1134\n",
      "11     399\n",
      "5      242\n",
      "12      90\n",
      "4       29\n",
      "13      13\n",
      "3        3\n",
      "1        1\n",
      "Name: grade, dtype: int64\n"
     ]
    },
    {
     "data": {
      "image/png": "[encoded data removed]",
      "text/plain": [
       "<Figure size 432x288 with 1 Axes>"
      ]
     },
     "metadata": {
      "needs_background": "light"
     },
     "output_type": "display_data"
    }
   ],
   "source": [
    "print(df['grade'].value_counts())\n",
    "df['grade'].value_counts()\n",
    "sns.countplot(data=df, x='grade',order = df['grade'].value_counts().index);"
   ]
  },
  {
   "cell_type": "code",
   "execution_count": 25,
   "id": "482652f8",
   "metadata": {},
   "outputs": [
    {
     "name": "stdout",
     "output_type": "stream",
     "text": [
      "7         8980\n",
      "8         6067\n",
      "9         2615\n",
      "6         2038\n",
      "10        1134\n",
      "11         399\n",
      "5          242\n",
      "Others     136\n",
      "Name: grade, dtype: int64\n"
     ]
    }
   ],
   "source": [
    "grades = df['grade'] # Create a series of grade columns\n",
    "grades_counts = grades.value_counts() #Getting the counts of each grade category\n",
    "mask = grades.isin(grades_counts[grades_counts < 200].index) #creating a mask\n",
    "grades[mask] = 'Others'\n",
    "print(grades.value_counts())"
   ]
  },
  {
   "cell_type": "markdown",
   "id": "2cc97d12",
   "metadata": {},
   "source": [
    "### Feature Engineering for 'condition' Feature"
   ]
  },
  {
   "cell_type": "code",
   "execution_count": 26,
   "id": "fce9ccd2",
   "metadata": {
    "scrolled": false
   },
   "outputs": [
    {
     "name": "stdout",
     "output_type": "stream",
     "text": [
      "3    14030\n",
      "4     5678\n",
      "5     1701\n",
      "2      172\n",
      "1       30\n",
      "Name: condition, dtype: int64\n"
     ]
    },
    {
     "data": {
      "image/png": "[encoded data removed]",
      "text/plain": [
       "<Figure size 432x288 with 1 Axes>"
      ]
     },
     "metadata": {
      "needs_background": "light"
     },
     "output_type": "display_data"
    }
   ],
   "source": [
    "print(df['condition'].value_counts())\n",
    "df['condition'].value_counts()\n",
    "sns.countplot(data=df, x='condition',order = df['condition'].value_counts().index);"
   ]
  },
  {
   "cell_type": "code",
   "execution_count": 27,
   "id": "e32196aa",
   "metadata": {},
   "outputs": [
    {
     "name": "stdout",
     "output_type": "stream",
     "text": [
      "3         14030\n",
      "4          5678\n",
      "5          1701\n",
      "Others      202\n",
      "Name: condition, dtype: int64\n"
     ]
    }
   ],
   "source": [
    "conditions = df['condition'] # Create a series of grade columns\n",
    "condition_counts = conditions.value_counts() #Getting the counts of each grade category\n",
    "mask_condition = conditions.isin(condition_counts[condition_counts < 200].index) #creating a mask\n",
    "conditions[mask_condition] = 'Others'\n",
    "print(conditions.value_counts())"
   ]
  },
  {
   "cell_type": "markdown",
   "id": "946892e4",
   "metadata": {},
   "source": [
    "### Feature Engineering for 'view' Feature"
   ]
  },
  {
   "cell_type": "code",
   "execution_count": 28,
   "id": "754e3120",
   "metadata": {},
   "outputs": [
    {
     "name": "stdout",
     "output_type": "stream",
     "text": [
      "0    19487\n",
      "2      963\n",
      "3      510\n",
      "1      332\n",
      "4      319\n",
      "Name: view, dtype: int64\n"
     ]
    },
    {
     "data": {
      "image/png": "[encoded data removed]",
      "text/plain": [
       "<Figure size 432x288 with 1 Axes>"
      ]
     },
     "metadata": {
      "needs_background": "light"
     },
     "output_type": "display_data"
    }
   ],
   "source": [
    "print(df['view'].value_counts())\n",
    "df['view'].value_counts()\n",
    "sns.countplot(data=df, x='view',order = df['view'].value_counts().index);"
   ]
  },
  {
   "cell_type": "markdown",
   "id": "af4449e2",
   "metadata": {},
   "source": [
    "## Exploratory Data Analysis"
   ]
  },
  {
   "cell_type": "code",
   "execution_count": 29,
   "id": "d87e990c",
   "metadata": {},
   "outputs": [
    {
     "data": {
      "image/png": "[encoded data removed]",
      "text/plain": [
       "<Figure size 1080x504 with 1 Axes>"
      ]
     },
     "metadata": {
      "needs_background": "light"
     },
     "output_type": "display_data"
    }
   ],
   "source": [
    "df.plot(x='date', y='price',figsize=(15,7),color='gray')\n",
    "plt.show()"
   ]
  },
  {
   "cell_type": "code",
   "execution_count": 30,
   "id": "1557a43d",
   "metadata": {},
   "outputs": [
    {
     "data": {
      "image/png": "[encoded data removed]",
      "text/plain": [
       "<Figure size 1080x504 with 1 Axes>"
      ]
     },
     "metadata": {
      "needs_background": "light"
     },
     "output_type": "display_data"
    }
   ],
   "source": [
    "plt.figure(figsize=(15,7))\n",
    "sns.barplot(data=df, x=\"view\", y=\"price\");"
   ]
  },
  {
   "cell_type": "markdown",
   "id": "5dbcb8d6",
   "metadata": {},
   "source": [
    "### Categorical Variable Analysis"
   ]
  },
  {
   "cell_type": "code",
   "execution_count": 31,
   "id": "2bf66569",
   "metadata": {},
   "outputs": [],
   "source": [
    "df['view'] = df['view'].astype('object')\n",
    "df['waterfront'] = df['waterfront'].astype('object')"
   ]
  },
  {
   "cell_type": "code",
   "execution_count": 32,
   "id": "0952b38f",
   "metadata": {
    "scrolled": false
   },
   "outputs": [
    {
     "name": "stdout",
     "output_type": "stream",
     "text": [
      "0    21448\n",
      "1      163\n",
      "Name: waterfront, dtype: int64\n"
     ]
    },
    {
     "data": {
      "image/png": "[encoded data removed]",
      "text/plain": [
       "<Figure size 432x288 with 1 Axes>"
      ]
     },
     "metadata": {
      "needs_background": "light"
     },
     "output_type": "display_data"
    },
    {
     "name": "stdout",
     "output_type": "stream",
     "text": [
      "0    19487\n",
      "2      963\n",
      "3      510\n",
      "1      332\n",
      "4      319\n",
      "Name: view, dtype: int64\n"
     ]
    },
    {
     "data": {
      "image/png": "[encoded data removed]",
      "text/plain": [
       "<Figure size 432x288 with 1 Axes>"
      ]
     },
     "metadata": {
      "needs_background": "light"
     },
     "output_type": "display_data"
    },
    {
     "name": "stdout",
     "output_type": "stream",
     "text": [
      "3         14030\n",
      "4          5678\n",
      "5          1701\n",
      "Others      202\n",
      "Name: condition, dtype: int64\n"
     ]
    },
    {
     "data": {
      "image/png": "[encoded data removed]",
      "text/plain": [
       "<Figure size 432x288 with 1 Axes>"
      ]
     },
     "metadata": {
      "needs_background": "light"
     },
     "output_type": "display_data"
    },
    {
     "name": "stdout",
     "output_type": "stream",
     "text": [
      "7         8980\n",
      "8         6067\n",
      "9         2615\n",
      "6         2038\n",
      "10        1134\n",
      "11         399\n",
      "5          242\n",
      "Others     136\n",
      "Name: grade, dtype: int64\n"
     ]
    },
    {
     "data": {
      "image/png": "[encoded data removed]",
      "text/plain": [
       "<Figure size 432x288 with 1 Axes>"
      ]
     },
     "metadata": {
      "needs_background": "light"
     },
     "output_type": "display_data"
    },
    {
     "name": "stdout",
     "output_type": "stream",
     "text": [
      "SPRING    6518\n",
      "SUMMER    6331\n",
      "AUTUMN    5063\n",
      "WINTER    3699\n",
      "Name: season, dtype: int64\n"
     ]
    },
    {
     "data": {
      "image/png": "[encoded data removed]",
      "text/plain": [
       "<Figure size 432x288 with 1 Axes>"
      ]
     },
     "metadata": {
      "needs_background": "light"
     },
     "output_type": "display_data"
    },
    {
     "name": "stdout",
     "output_type": "stream",
     "text": [
      "LAST_WEEK      6736\n",
      "SECOND_WEEK    5095\n",
      "THIRD_WEEK     4938\n",
      "FIRST_WEEK     4842\n",
      "Name: week, dtype: int64\n"
     ]
    },
    {
     "data": {
      "image/png": "[encoded data removed]",
      "text/plain": [
       "<Figure size 432x288 with 1 Axes>"
      ]
     },
     "metadata": {
      "needs_background": "light"
     },
     "output_type": "display_data"
    }
   ],
   "source": [
    "object_variables = df.select_dtypes(include=['object']) #returns a dataframe of \"object\" dtypes features\n",
    "for i in object_variables:\n",
    "    print(object_variables[i].value_counts())\n",
    "    sns.countplot(x=object_variables[i], order=object_variables[i].value_counts().index)\n",
    "    plt.xticks(rotation=90)\n",
    "    plt.show()"
   ]
  },
  {
   "cell_type": "markdown",
   "id": "cd7a3833",
   "metadata": {},
   "source": [
    "### Numeric Variable Analysis"
   ]
  },
  {
   "cell_type": "code",
   "execution_count": 33,
   "id": "26cb0db3",
   "metadata": {},
   "outputs": [
    {
     "data": {
      "image/png": "[encoded data removed]",
      "text/plain": [
       "<Figure size 936x504 with 2 Axes>"
      ]
     },
     "metadata": {
      "needs_background": "light"
     },
     "output_type": "display_data"
    }
   ],
   "source": [
    "numeric_cols = ['price','bedrooms','bathrooms','sqft_living','sqft_lot','floors','sqft_above',\n",
    "               'sqft_basement','sqft_living15','sqft_lot15','building_age_after_renovation']\n",
    "corr_matrix = df[numeric_cols].corr()\n",
    "plt.subplots(figsize=(13,7))\n",
    "sns.heatmap(corr_matrix, annot=True,square=True)\n",
    "plt.show();"
   ]
  },
  {
   "cell_type": "code",
   "execution_count": 34,
   "id": "ae559566",
   "metadata": {},
   "outputs": [
    {
     "name": "stdout",
     "output_type": "stream",
     "text": [
      "The original dataframe has 25 columns and 21611 rows.\n",
      "The reduced dataframe has 16 columns and 21611 rows.\n"
     ]
    }
   ],
   "source": [
    "print(\"The original dataframe has {} columns and {} rows.\".format(df.shape[1],df.shape[0]))\n",
    "corr_matrix = df.corr().abs()\n",
    "mask = np.triu(np.ones_like(corr_matrix,dtype=bool))\n",
    "triange_df = corr_matrix.mask(mask)\n",
    "to_drop_features = [columns for columns in triange_df if any(triange_df[columns] > 0.7)]\n",
    "reduced_df = df.drop(to_drop_features, axis=1)\n",
    "print(\"The reduced dataframe has {} columns and {} rows.\".format(reduced_df.shape[1],reduced_df.shape[0]))"
   ]
  },
  {
   "cell_type": "markdown",
   "id": "42e14c22",
   "metadata": {},
   "source": [
    "### Dropping Unnecessary Features\n",
    "* date_year, date_month, date_day,building_age, age_after_renovation,yr_built, yr_renovated will be dropped."
   ]
  },
  {
   "cell_type": "code",
   "execution_count": 35,
   "id": "d7815300",
   "metadata": {},
   "outputs": [
    {
     "data": {
      "text/html": [
       "<div>\n",
       "<style scoped>\n",
       "    .dataframe tbody tr th:only-of-type {\n",
       "        vertical-align: middle;\n",
       "    }\n",
       "\n",
       "    .dataframe tbody tr th {\n",
       "        vertical-align: top;\n",
       "    }\n",
       "\n",
       "    .dataframe thead th {\n",
       "        text-align: right;\n",
       "    }\n",
       "</style>\n",
       "<table border=\"1\" class=\"dataframe\">\n",
       "  <thead>\n",
       "    <tr style=\"text-align: right;\">\n",
       "      <th></th>\n",
       "      <th>date</th>\n",
       "      <th>bedrooms</th>\n",
       "      <th>floors</th>\n",
       "      <th>waterfront</th>\n",
       "      <th>view</th>\n",
       "      <th>condition</th>\n",
       "      <th>grade</th>\n",
       "      <th>sqft_basement</th>\n",
       "      <th>sqft_living15</th>\n",
       "      <th>sqft_lot15</th>\n",
       "      <th>date_month</th>\n",
       "      <th>date_day</th>\n",
       "      <th>season</th>\n",
       "      <th>week</th>\n",
       "      <th>age_after_renovation</th>\n",
       "      <th>building_age_after_renovation</th>\n",
       "    </tr>\n",
       "  </thead>\n",
       "  <tbody>\n",
       "    <tr>\n",
       "      <th>0</th>\n",
       "      <td>2014-10-13</td>\n",
       "      <td>3</td>\n",
       "      <td>1.0</td>\n",
       "      <td>0</td>\n",
       "      <td>0</td>\n",
       "      <td>3</td>\n",
       "      <td>7</td>\n",
       "      <td>0</td>\n",
       "      <td>1340</td>\n",
       "      <td>5650</td>\n",
       "      <td>10</td>\n",
       "      <td>13</td>\n",
       "      <td>AUTUMN</td>\n",
       "      <td>SECOND_WEEK</td>\n",
       "      <td>0</td>\n",
       "      <td>59</td>\n",
       "    </tr>\n",
       "    <tr>\n",
       "      <th>1</th>\n",
       "      <td>2014-12-09</td>\n",
       "      <td>3</td>\n",
       "      <td>2.0</td>\n",
       "      <td>0</td>\n",
       "      <td>0</td>\n",
       "      <td>3</td>\n",
       "      <td>7</td>\n",
       "      <td>400</td>\n",
       "      <td>1690</td>\n",
       "      <td>7639</td>\n",
       "      <td>12</td>\n",
       "      <td>9</td>\n",
       "      <td>WINTER</td>\n",
       "      <td>SECOND_WEEK</td>\n",
       "      <td>40</td>\n",
       "      <td>23</td>\n",
       "    </tr>\n",
       "    <tr>\n",
       "      <th>2</th>\n",
       "      <td>2015-02-25</td>\n",
       "      <td>2</td>\n",
       "      <td>1.0</td>\n",
       "      <td>0</td>\n",
       "      <td>0</td>\n",
       "      <td>3</td>\n",
       "      <td>6</td>\n",
       "      <td>0</td>\n",
       "      <td>2720</td>\n",
       "      <td>8062</td>\n",
       "      <td>2</td>\n",
       "      <td>25</td>\n",
       "      <td>WINTER</td>\n",
       "      <td>LAST_WEEK</td>\n",
       "      <td>0</td>\n",
       "      <td>82</td>\n",
       "    </tr>\n",
       "    <tr>\n",
       "      <th>3</th>\n",
       "      <td>2014-12-09</td>\n",
       "      <td>4</td>\n",
       "      <td>1.0</td>\n",
       "      <td>0</td>\n",
       "      <td>0</td>\n",
       "      <td>5</td>\n",
       "      <td>7</td>\n",
       "      <td>910</td>\n",
       "      <td>1360</td>\n",
       "      <td>5000</td>\n",
       "      <td>12</td>\n",
       "      <td>9</td>\n",
       "      <td>WINTER</td>\n",
       "      <td>SECOND_WEEK</td>\n",
       "      <td>0</td>\n",
       "      <td>49</td>\n",
       "    </tr>\n",
       "    <tr>\n",
       "      <th>4</th>\n",
       "      <td>2015-02-18</td>\n",
       "      <td>3</td>\n",
       "      <td>1.0</td>\n",
       "      <td>0</td>\n",
       "      <td>0</td>\n",
       "      <td>3</td>\n",
       "      <td>8</td>\n",
       "      <td>0</td>\n",
       "      <td>1800</td>\n",
       "      <td>7503</td>\n",
       "      <td>2</td>\n",
       "      <td>18</td>\n",
       "      <td>WINTER</td>\n",
       "      <td>THIRD_WEEK</td>\n",
       "      <td>0</td>\n",
       "      <td>28</td>\n",
       "    </tr>\n",
       "  </tbody>\n",
       "</table>\n",
       "</div>"
      ],
      "text/plain": [
       "        date  bedrooms  floors waterfront view condition grade  sqft_basement  \\\n",
       "0 2014-10-13         3     1.0          0    0         3     7              0   \n",
       "1 2014-12-09         3     2.0          0    0         3     7            400   \n",
       "2 2015-02-25         2     1.0          0    0         3     6              0   \n",
       "3 2014-12-09         4     1.0          0    0         5     7            910   \n",
       "4 2015-02-18         3     1.0          0    0         3     8              0   \n",
       "\n",
       "   sqft_living15  sqft_lot15  date_month  date_day  season         week  \\\n",
       "0           1340        5650          10        13  AUTUMN  SECOND_WEEK   \n",
       "1           1690        7639          12         9  WINTER  SECOND_WEEK   \n",
       "2           2720        8062           2        25  WINTER    LAST_WEEK   \n",
       "3           1360        5000          12         9  WINTER  SECOND_WEEK   \n",
       "4           1800        7503           2        18  WINTER   THIRD_WEEK   \n",
       "\n",
       "   age_after_renovation  building_age_after_renovation  \n",
       "0                     0                             59  \n",
       "1                    40                             23  \n",
       "2                     0                             82  \n",
       "3                     0                             49  \n",
       "4                     0                             28  "
      ]
     },
     "execution_count": 35,
     "metadata": {},
     "output_type": "execute_result"
    }
   ],
   "source": [
    "reduced_df.head()"
   ]
  },
  {
   "cell_type": "code",
   "execution_count": 36,
   "id": "1e45cbdc",
   "metadata": {},
   "outputs": [],
   "source": [
    "reduced_df.drop(columns=['date_month', 'date_day','age_after_renovation','date'], axis=1, inplace=True)"
   ]
  },
  {
   "cell_type": "code",
   "execution_count": 37,
   "id": "4c54bb78",
   "metadata": {},
   "outputs": [
    {
     "data": {
      "text/html": [
       "<div>\n",
       "<style scoped>\n",
       "    .dataframe tbody tr th:only-of-type {\n",
       "        vertical-align: middle;\n",
       "    }\n",
       "\n",
       "    .dataframe tbody tr th {\n",
       "        vertical-align: top;\n",
       "    }\n",
       "\n",
       "    .dataframe thead th {\n",
       "        text-align: right;\n",
       "    }\n",
       "</style>\n",
       "<table border=\"1\" class=\"dataframe\">\n",
       "  <thead>\n",
       "    <tr style=\"text-align: right;\">\n",
       "      <th></th>\n",
       "      <th>bedrooms</th>\n",
       "      <th>floors</th>\n",
       "      <th>waterfront</th>\n",
       "      <th>view</th>\n",
       "      <th>condition</th>\n",
       "      <th>grade</th>\n",
       "      <th>sqft_basement</th>\n",
       "      <th>sqft_living15</th>\n",
       "      <th>sqft_lot15</th>\n",
       "      <th>season</th>\n",
       "      <th>week</th>\n",
       "      <th>building_age_after_renovation</th>\n",
       "    </tr>\n",
       "  </thead>\n",
       "  <tbody>\n",
       "    <tr>\n",
       "      <th>0</th>\n",
       "      <td>3</td>\n",
       "      <td>1.0</td>\n",
       "      <td>0</td>\n",
       "      <td>0</td>\n",
       "      <td>3</td>\n",
       "      <td>7</td>\n",
       "      <td>0</td>\n",
       "      <td>1340</td>\n",
       "      <td>5650</td>\n",
       "      <td>AUTUMN</td>\n",
       "      <td>SECOND_WEEK</td>\n",
       "      <td>59</td>\n",
       "    </tr>\n",
       "    <tr>\n",
       "      <th>1</th>\n",
       "      <td>3</td>\n",
       "      <td>2.0</td>\n",
       "      <td>0</td>\n",
       "      <td>0</td>\n",
       "      <td>3</td>\n",
       "      <td>7</td>\n",
       "      <td>400</td>\n",
       "      <td>1690</td>\n",
       "      <td>7639</td>\n",
       "      <td>WINTER</td>\n",
       "      <td>SECOND_WEEK</td>\n",
       "      <td>23</td>\n",
       "    </tr>\n",
       "    <tr>\n",
       "      <th>2</th>\n",
       "      <td>2</td>\n",
       "      <td>1.0</td>\n",
       "      <td>0</td>\n",
       "      <td>0</td>\n",
       "      <td>3</td>\n",
       "      <td>6</td>\n",
       "      <td>0</td>\n",
       "      <td>2720</td>\n",
       "      <td>8062</td>\n",
       "      <td>WINTER</td>\n",
       "      <td>LAST_WEEK</td>\n",
       "      <td>82</td>\n",
       "    </tr>\n",
       "    <tr>\n",
       "      <th>3</th>\n",
       "      <td>4</td>\n",
       "      <td>1.0</td>\n",
       "      <td>0</td>\n",
       "      <td>0</td>\n",
       "      <td>5</td>\n",
       "      <td>7</td>\n",
       "      <td>910</td>\n",
       "      <td>1360</td>\n",
       "      <td>5000</td>\n",
       "      <td>WINTER</td>\n",
       "      <td>SECOND_WEEK</td>\n",
       "      <td>49</td>\n",
       "    </tr>\n",
       "    <tr>\n",
       "      <th>4</th>\n",
       "      <td>3</td>\n",
       "      <td>1.0</td>\n",
       "      <td>0</td>\n",
       "      <td>0</td>\n",
       "      <td>3</td>\n",
       "      <td>8</td>\n",
       "      <td>0</td>\n",
       "      <td>1800</td>\n",
       "      <td>7503</td>\n",
       "      <td>WINTER</td>\n",
       "      <td>THIRD_WEEK</td>\n",
       "      <td>28</td>\n",
       "    </tr>\n",
       "  </tbody>\n",
       "</table>\n",
       "</div>"
      ],
      "text/plain": [
       "   bedrooms  floors waterfront view condition grade  sqft_basement  \\\n",
       "0         3     1.0          0    0         3     7              0   \n",
       "1         3     2.0          0    0         3     7            400   \n",
       "2         2     1.0          0    0         3     6              0   \n",
       "3         4     1.0          0    0         5     7            910   \n",
       "4         3     1.0          0    0         3     8              0   \n",
       "\n",
       "   sqft_living15  sqft_lot15  season         week  \\\n",
       "0           1340        5650  AUTUMN  SECOND_WEEK   \n",
       "1           1690        7639  WINTER  SECOND_WEEK   \n",
       "2           2720        8062  WINTER    LAST_WEEK   \n",
       "3           1360        5000  WINTER  SECOND_WEEK   \n",
       "4           1800        7503  WINTER   THIRD_WEEK   \n",
       "\n",
       "   building_age_after_renovation  \n",
       "0                             59  \n",
       "1                             23  \n",
       "2                             82  \n",
       "3                             49  \n",
       "4                             28  "
      ]
     },
     "execution_count": 37,
     "metadata": {},
     "output_type": "execute_result"
    }
   ],
   "source": [
    "reduced_df.head()"
   ]
  },
  {
   "cell_type": "code",
   "execution_count": 38,
   "id": "70149364",
   "metadata": {},
   "outputs": [
    {
     "data": {
      "text/html": [
       "<div>\n",
       "<style scoped>\n",
       "    .dataframe tbody tr th:only-of-type {\n",
       "        vertical-align: middle;\n",
       "    }\n",
       "\n",
       "    .dataframe tbody tr th {\n",
       "        vertical-align: top;\n",
       "    }\n",
       "\n",
       "    .dataframe thead th {\n",
       "        text-align: right;\n",
       "    }\n",
       "</style>\n",
       "<table border=\"1\" class=\"dataframe\">\n",
       "  <thead>\n",
       "    <tr style=\"text-align: right;\">\n",
       "      <th></th>\n",
       "      <th>bedrooms</th>\n",
       "      <th>floors</th>\n",
       "      <th>waterfront</th>\n",
       "      <th>view</th>\n",
       "      <th>condition</th>\n",
       "      <th>grade</th>\n",
       "      <th>sqft_basement</th>\n",
       "      <th>sqft_living15</th>\n",
       "      <th>sqft_lot15</th>\n",
       "      <th>season</th>\n",
       "      <th>week</th>\n",
       "      <th>building_age_after_renovation</th>\n",
       "      <th>price</th>\n",
       "    </tr>\n",
       "  </thead>\n",
       "  <tbody>\n",
       "    <tr>\n",
       "      <th>0</th>\n",
       "      <td>3</td>\n",
       "      <td>1.0</td>\n",
       "      <td>0</td>\n",
       "      <td>0</td>\n",
       "      <td>3</td>\n",
       "      <td>7</td>\n",
       "      <td>0</td>\n",
       "      <td>1340</td>\n",
       "      <td>5650</td>\n",
       "      <td>AUTUMN</td>\n",
       "      <td>SECOND_WEEK</td>\n",
       "      <td>59</td>\n",
       "      <td>221900.0</td>\n",
       "    </tr>\n",
       "    <tr>\n",
       "      <th>1</th>\n",
       "      <td>3</td>\n",
       "      <td>2.0</td>\n",
       "      <td>0</td>\n",
       "      <td>0</td>\n",
       "      <td>3</td>\n",
       "      <td>7</td>\n",
       "      <td>400</td>\n",
       "      <td>1690</td>\n",
       "      <td>7639</td>\n",
       "      <td>WINTER</td>\n",
       "      <td>SECOND_WEEK</td>\n",
       "      <td>23</td>\n",
       "      <td>538000.0</td>\n",
       "    </tr>\n",
       "    <tr>\n",
       "      <th>2</th>\n",
       "      <td>2</td>\n",
       "      <td>1.0</td>\n",
       "      <td>0</td>\n",
       "      <td>0</td>\n",
       "      <td>3</td>\n",
       "      <td>6</td>\n",
       "      <td>0</td>\n",
       "      <td>2720</td>\n",
       "      <td>8062</td>\n",
       "      <td>WINTER</td>\n",
       "      <td>LAST_WEEK</td>\n",
       "      <td>82</td>\n",
       "      <td>180000.0</td>\n",
       "    </tr>\n",
       "    <tr>\n",
       "      <th>3</th>\n",
       "      <td>4</td>\n",
       "      <td>1.0</td>\n",
       "      <td>0</td>\n",
       "      <td>0</td>\n",
       "      <td>5</td>\n",
       "      <td>7</td>\n",
       "      <td>910</td>\n",
       "      <td>1360</td>\n",
       "      <td>5000</td>\n",
       "      <td>WINTER</td>\n",
       "      <td>SECOND_WEEK</td>\n",
       "      <td>49</td>\n",
       "      <td>604000.0</td>\n",
       "    </tr>\n",
       "    <tr>\n",
       "      <th>4</th>\n",
       "      <td>3</td>\n",
       "      <td>1.0</td>\n",
       "      <td>0</td>\n",
       "      <td>0</td>\n",
       "      <td>3</td>\n",
       "      <td>8</td>\n",
       "      <td>0</td>\n",
       "      <td>1800</td>\n",
       "      <td>7503</td>\n",
       "      <td>WINTER</td>\n",
       "      <td>THIRD_WEEK</td>\n",
       "      <td>28</td>\n",
       "      <td>510000.0</td>\n",
       "    </tr>\n",
       "  </tbody>\n",
       "</table>\n",
       "</div>"
      ],
      "text/plain": [
       "   bedrooms  floors waterfront view condition grade  sqft_basement  \\\n",
       "0         3     1.0          0    0         3     7              0   \n",
       "1         3     2.0          0    0         3     7            400   \n",
       "2         2     1.0          0    0         3     6              0   \n",
       "3         4     1.0          0    0         5     7            910   \n",
       "4         3     1.0          0    0         3     8              0   \n",
       "\n",
       "   sqft_living15  sqft_lot15  season         week  \\\n",
       "0           1340        5650  AUTUMN  SECOND_WEEK   \n",
       "1           1690        7639  WINTER  SECOND_WEEK   \n",
       "2           2720        8062  WINTER    LAST_WEEK   \n",
       "3           1360        5000  WINTER  SECOND_WEEK   \n",
       "4           1800        7503  WINTER   THIRD_WEEK   \n",
       "\n",
       "   building_age_after_renovation     price  \n",
       "0                             59  221900.0  \n",
       "1                             23  538000.0  \n",
       "2                             82  180000.0  \n",
       "3                             49  604000.0  \n",
       "4                             28  510000.0  "
      ]
     },
     "execution_count": 38,
     "metadata": {},
     "output_type": "execute_result"
    }
   ],
   "source": [
    "df_price = df[['price']]\n",
    "final_df = pd.concat([reduced_df,df_price],axis=1)\n",
    "final_df.head()"
   ]
  },
  {
   "cell_type": "markdown",
   "id": "b19c877d",
   "metadata": {},
   "source": [
    "### One-Hot Encoding"
   ]
  },
  {
   "cell_type": "code",
   "execution_count": 39,
   "id": "56d0d783",
   "metadata": {},
   "outputs": [
    {
     "data": {
      "text/html": [
       "<div>\n",
       "<style scoped>\n",
       "    .dataframe tbody tr th:only-of-type {\n",
       "        vertical-align: middle;\n",
       "    }\n",
       "\n",
       "    .dataframe tbody tr th {\n",
       "        vertical-align: top;\n",
       "    }\n",
       "\n",
       "    .dataframe thead th {\n",
       "        text-align: right;\n",
       "    }\n",
       "</style>\n",
       "<table border=\"1\" class=\"dataframe\">\n",
       "  <thead>\n",
       "    <tr style=\"text-align: right;\">\n",
       "      <th></th>\n",
       "      <th>bedrooms</th>\n",
       "      <th>floors</th>\n",
       "      <th>waterfront</th>\n",
       "      <th>view_0.0</th>\n",
       "      <th>view_3.0</th>\n",
       "      <th>view_4.0</th>\n",
       "      <th>view_2.0</th>\n",
       "      <th>view_1.0</th>\n",
       "      <th>condition_3</th>\n",
       "      <th>condition_5</th>\n",
       "      <th>...</th>\n",
       "      <th>season_AUTUMN</th>\n",
       "      <th>season_WINTER</th>\n",
       "      <th>season_SPRING</th>\n",
       "      <th>season_SUMMER</th>\n",
       "      <th>week_SECOND_WEEK</th>\n",
       "      <th>week_LAST_WEEK</th>\n",
       "      <th>week_THIRD_WEEK</th>\n",
       "      <th>week_FIRST_WEEK</th>\n",
       "      <th>building_age_after_renovation</th>\n",
       "      <th>price</th>\n",
       "    </tr>\n",
       "  </thead>\n",
       "  <tbody>\n",
       "    <tr>\n",
       "      <th>0</th>\n",
       "      <td>3</td>\n",
       "      <td>1.0</td>\n",
       "      <td>0</td>\n",
       "      <td>1</td>\n",
       "      <td>0</td>\n",
       "      <td>0</td>\n",
       "      <td>0</td>\n",
       "      <td>0</td>\n",
       "      <td>1</td>\n",
       "      <td>0</td>\n",
       "      <td>...</td>\n",
       "      <td>1</td>\n",
       "      <td>0</td>\n",
       "      <td>0</td>\n",
       "      <td>0</td>\n",
       "      <td>1</td>\n",
       "      <td>0</td>\n",
       "      <td>0</td>\n",
       "      <td>0</td>\n",
       "      <td>59</td>\n",
       "      <td>221900.0</td>\n",
       "    </tr>\n",
       "    <tr>\n",
       "      <th>1</th>\n",
       "      <td>3</td>\n",
       "      <td>2.0</td>\n",
       "      <td>0</td>\n",
       "      <td>1</td>\n",
       "      <td>0</td>\n",
       "      <td>0</td>\n",
       "      <td>0</td>\n",
       "      <td>0</td>\n",
       "      <td>1</td>\n",
       "      <td>0</td>\n",
       "      <td>...</td>\n",
       "      <td>0</td>\n",
       "      <td>1</td>\n",
       "      <td>0</td>\n",
       "      <td>0</td>\n",
       "      <td>1</td>\n",
       "      <td>0</td>\n",
       "      <td>0</td>\n",
       "      <td>0</td>\n",
       "      <td>23</td>\n",
       "      <td>538000.0</td>\n",
       "    </tr>\n",
       "    <tr>\n",
       "      <th>2</th>\n",
       "      <td>2</td>\n",
       "      <td>1.0</td>\n",
       "      <td>0</td>\n",
       "      <td>1</td>\n",
       "      <td>0</td>\n",
       "      <td>0</td>\n",
       "      <td>0</td>\n",
       "      <td>0</td>\n",
       "      <td>1</td>\n",
       "      <td>0</td>\n",
       "      <td>...</td>\n",
       "      <td>0</td>\n",
       "      <td>1</td>\n",
       "      <td>0</td>\n",
       "      <td>0</td>\n",
       "      <td>0</td>\n",
       "      <td>1</td>\n",
       "      <td>0</td>\n",
       "      <td>0</td>\n",
       "      <td>82</td>\n",
       "      <td>180000.0</td>\n",
       "    </tr>\n",
       "    <tr>\n",
       "      <th>3</th>\n",
       "      <td>4</td>\n",
       "      <td>1.0</td>\n",
       "      <td>0</td>\n",
       "      <td>1</td>\n",
       "      <td>0</td>\n",
       "      <td>0</td>\n",
       "      <td>0</td>\n",
       "      <td>0</td>\n",
       "      <td>0</td>\n",
       "      <td>1</td>\n",
       "      <td>...</td>\n",
       "      <td>0</td>\n",
       "      <td>1</td>\n",
       "      <td>0</td>\n",
       "      <td>0</td>\n",
       "      <td>1</td>\n",
       "      <td>0</td>\n",
       "      <td>0</td>\n",
       "      <td>0</td>\n",
       "      <td>49</td>\n",
       "      <td>604000.0</td>\n",
       "    </tr>\n",
       "    <tr>\n",
       "      <th>4</th>\n",
       "      <td>3</td>\n",
       "      <td>1.0</td>\n",
       "      <td>0</td>\n",
       "      <td>1</td>\n",
       "      <td>0</td>\n",
       "      <td>0</td>\n",
       "      <td>0</td>\n",
       "      <td>0</td>\n",
       "      <td>1</td>\n",
       "      <td>0</td>\n",
       "      <td>...</td>\n",
       "      <td>0</td>\n",
       "      <td>1</td>\n",
       "      <td>0</td>\n",
       "      <td>0</td>\n",
       "      <td>0</td>\n",
       "      <td>0</td>\n",
       "      <td>1</td>\n",
       "      <td>0</td>\n",
       "      <td>28</td>\n",
       "      <td>510000.0</td>\n",
       "    </tr>\n",
       "  </tbody>\n",
       "</table>\n",
       "<p>5 rows × 33 columns</p>\n",
       "</div>"
      ],
      "text/plain": [
       "   bedrooms  floors waterfront  view_0.0  view_3.0  view_4.0  view_2.0  \\\n",
       "0         3     1.0          0         1         0         0         0   \n",
       "1         3     2.0          0         1         0         0         0   \n",
       "2         2     1.0          0         1         0         0         0   \n",
       "3         4     1.0          0         1         0         0         0   \n",
       "4         3     1.0          0         1         0         0         0   \n",
       "\n",
       "   view_1.0  condition_3  condition_5  ...  season_AUTUMN  season_WINTER  \\\n",
       "0         0            1            0  ...              1              0   \n",
       "1         0            1            0  ...              0              1   \n",
       "2         0            1            0  ...              0              1   \n",
       "3         0            0            1  ...              0              1   \n",
       "4         0            1            0  ...              0              1   \n",
       "\n",
       "   season_SPRING  season_SUMMER  week_SECOND_WEEK  week_LAST_WEEK  \\\n",
       "0              0              0                 1               0   \n",
       "1              0              0                 1               0   \n",
       "2              0              0                 0               1   \n",
       "3              0              0                 1               0   \n",
       "4              0              0                 0               0   \n",
       "\n",
       "   week_THIRD_WEEK  week_FIRST_WEEK  building_age_after_renovation     price  \n",
       "0                0                0                             59  221900.0  \n",
       "1                0                0                             23  538000.0  \n",
       "2                0                0                             82  180000.0  \n",
       "3                0                0                             49  604000.0  \n",
       "4                1                0                             28  510000.0  \n",
       "\n",
       "[5 rows x 33 columns]"
      ]
     },
     "execution_count": 39,
     "metadata": {},
     "output_type": "execute_result"
    }
   ],
   "source": [
    "df_one_hot = OneHotEncoder(cols=['season','week','view','condition','grade'],use_cat_names=True).fit_transform(final_df)\n",
    "df_one_hot.head()"
   ]
  },
  {
   "cell_type": "markdown",
   "id": "29bd26d0",
   "metadata": {},
   "source": [
    "### Scaling Numeric Features"
   ]
  },
  {
   "cell_type": "code",
   "execution_count": 40,
   "id": "146bbeac",
   "metadata": {},
   "outputs": [
    {
     "data": {
      "text/html": [
       "<div>\n",
       "<style scoped>\n",
       "    .dataframe tbody tr th:only-of-type {\n",
       "        vertical-align: middle;\n",
       "    }\n",
       "\n",
       "    .dataframe tbody tr th {\n",
       "        vertical-align: top;\n",
       "    }\n",
       "\n",
       "    .dataframe thead th {\n",
       "        text-align: right;\n",
       "    }\n",
       "</style>\n",
       "<table border=\"1\" class=\"dataframe\">\n",
       "  <thead>\n",
       "    <tr style=\"text-align: right;\">\n",
       "      <th></th>\n",
       "      <th>bedrooms</th>\n",
       "      <th>floors</th>\n",
       "      <th>waterfront</th>\n",
       "      <th>view_0.0</th>\n",
       "      <th>view_3.0</th>\n",
       "      <th>view_4.0</th>\n",
       "      <th>view_2.0</th>\n",
       "      <th>view_1.0</th>\n",
       "      <th>condition_3</th>\n",
       "      <th>condition_5</th>\n",
       "      <th>...</th>\n",
       "      <th>season_AUTUMN</th>\n",
       "      <th>season_WINTER</th>\n",
       "      <th>season_SPRING</th>\n",
       "      <th>season_SUMMER</th>\n",
       "      <th>week_SECOND_WEEK</th>\n",
       "      <th>week_LAST_WEEK</th>\n",
       "      <th>week_THIRD_WEEK</th>\n",
       "      <th>week_FIRST_WEEK</th>\n",
       "      <th>building_age_after_renovation</th>\n",
       "      <th>price</th>\n",
       "    </tr>\n",
       "  </thead>\n",
       "  <tbody>\n",
       "    <tr>\n",
       "      <th>0</th>\n",
       "      <td>0.090909</td>\n",
       "      <td>0.0</td>\n",
       "      <td>0</td>\n",
       "      <td>1</td>\n",
       "      <td>0</td>\n",
       "      <td>0</td>\n",
       "      <td>0</td>\n",
       "      <td>0</td>\n",
       "      <td>1</td>\n",
       "      <td>0</td>\n",
       "      <td>...</td>\n",
       "      <td>1</td>\n",
       "      <td>0</td>\n",
       "      <td>0</td>\n",
       "      <td>0</td>\n",
       "      <td>1</td>\n",
       "      <td>0</td>\n",
       "      <td>0</td>\n",
       "      <td>0</td>\n",
       "      <td>0.517241</td>\n",
       "      <td>221900.0</td>\n",
       "    </tr>\n",
       "    <tr>\n",
       "      <th>1</th>\n",
       "      <td>0.090909</td>\n",
       "      <td>0.4</td>\n",
       "      <td>0</td>\n",
       "      <td>1</td>\n",
       "      <td>0</td>\n",
       "      <td>0</td>\n",
       "      <td>0</td>\n",
       "      <td>0</td>\n",
       "      <td>1</td>\n",
       "      <td>0</td>\n",
       "      <td>...</td>\n",
       "      <td>0</td>\n",
       "      <td>1</td>\n",
       "      <td>0</td>\n",
       "      <td>0</td>\n",
       "      <td>1</td>\n",
       "      <td>0</td>\n",
       "      <td>0</td>\n",
       "      <td>0</td>\n",
       "      <td>0.206897</td>\n",
       "      <td>538000.0</td>\n",
       "    </tr>\n",
       "    <tr>\n",
       "      <th>2</th>\n",
       "      <td>0.060606</td>\n",
       "      <td>0.0</td>\n",
       "      <td>0</td>\n",
       "      <td>1</td>\n",
       "      <td>0</td>\n",
       "      <td>0</td>\n",
       "      <td>0</td>\n",
       "      <td>0</td>\n",
       "      <td>1</td>\n",
       "      <td>0</td>\n",
       "      <td>...</td>\n",
       "      <td>0</td>\n",
       "      <td>1</td>\n",
       "      <td>0</td>\n",
       "      <td>0</td>\n",
       "      <td>0</td>\n",
       "      <td>1</td>\n",
       "      <td>0</td>\n",
       "      <td>0</td>\n",
       "      <td>0.715517</td>\n",
       "      <td>180000.0</td>\n",
       "    </tr>\n",
       "    <tr>\n",
       "      <th>3</th>\n",
       "      <td>0.121212</td>\n",
       "      <td>0.0</td>\n",
       "      <td>0</td>\n",
       "      <td>1</td>\n",
       "      <td>0</td>\n",
       "      <td>0</td>\n",
       "      <td>0</td>\n",
       "      <td>0</td>\n",
       "      <td>0</td>\n",
       "      <td>1</td>\n",
       "      <td>...</td>\n",
       "      <td>0</td>\n",
       "      <td>1</td>\n",
       "      <td>0</td>\n",
       "      <td>0</td>\n",
       "      <td>1</td>\n",
       "      <td>0</td>\n",
       "      <td>0</td>\n",
       "      <td>0</td>\n",
       "      <td>0.431034</td>\n",
       "      <td>604000.0</td>\n",
       "    </tr>\n",
       "    <tr>\n",
       "      <th>4</th>\n",
       "      <td>0.090909</td>\n",
       "      <td>0.0</td>\n",
       "      <td>0</td>\n",
       "      <td>1</td>\n",
       "      <td>0</td>\n",
       "      <td>0</td>\n",
       "      <td>0</td>\n",
       "      <td>0</td>\n",
       "      <td>1</td>\n",
       "      <td>0</td>\n",
       "      <td>...</td>\n",
       "      <td>0</td>\n",
       "      <td>1</td>\n",
       "      <td>0</td>\n",
       "      <td>0</td>\n",
       "      <td>0</td>\n",
       "      <td>0</td>\n",
       "      <td>1</td>\n",
       "      <td>0</td>\n",
       "      <td>0.250000</td>\n",
       "      <td>510000.0</td>\n",
       "    </tr>\n",
       "  </tbody>\n",
       "</table>\n",
       "<p>5 rows × 33 columns</p>\n",
       "</div>"
      ],
      "text/plain": [
       "   bedrooms  floors waterfront  view_0.0  view_3.0  view_4.0  view_2.0  \\\n",
       "0  0.090909     0.0          0         1         0         0         0   \n",
       "1  0.090909     0.4          0         1         0         0         0   \n",
       "2  0.060606     0.0          0         1         0         0         0   \n",
       "3  0.121212     0.0          0         1         0         0         0   \n",
       "4  0.090909     0.0          0         1         0         0         0   \n",
       "\n",
       "   view_1.0  condition_3  condition_5  ...  season_AUTUMN  season_WINTER  \\\n",
       "0         0            1            0  ...              1              0   \n",
       "1         0            1            0  ...              0              1   \n",
       "2         0            1            0  ...              0              1   \n",
       "3         0            0            1  ...              0              1   \n",
       "4         0            1            0  ...              0              1   \n",
       "\n",
       "   season_SPRING  season_SUMMER  week_SECOND_WEEK  week_LAST_WEEK  \\\n",
       "0              0              0                 1               0   \n",
       "1              0              0                 1               0   \n",
       "2              0              0                 0               1   \n",
       "3              0              0                 1               0   \n",
       "4              0              0                 0               0   \n",
       "\n",
       "   week_THIRD_WEEK  week_FIRST_WEEK  building_age_after_renovation     price  \n",
       "0                0                0                       0.517241  221900.0  \n",
       "1                0                0                       0.206897  538000.0  \n",
       "2                0                0                       0.715517  180000.0  \n",
       "3                0                0                       0.431034  604000.0  \n",
       "4                1                0                       0.250000  510000.0  \n",
       "\n",
       "[5 rows x 33 columns]"
      ]
     },
     "execution_count": 40,
     "metadata": {},
     "output_type": "execute_result"
    }
   ],
   "source": [
    "transformer = MinMaxScaler()\n",
    "\n",
    "def scaling(columns):\n",
    "    return transformer.fit_transform(df_one_hot[columns].values.reshape(-1,1))\n",
    "\n",
    "columns_to_be_scaled =['bedrooms','floors','sqft_basement','sqft_living15','sqft_lot15','building_age_after_renovation']\n",
    "\n",
    "for i in columns_to_be_scaled:\n",
    "    df_one_hot[i] = scaling(i)\n",
    "    \n",
    "df_one_hot.head()"
   ]
  },
  {
   "cell_type": "markdown",
   "id": "6ef12985",
   "metadata": {},
   "source": [
    "## Train-Test Split"
   ]
  },
  {
   "cell_type": "code",
   "execution_count": 41,
   "id": "fdbf8efd",
   "metadata": {},
   "outputs": [],
   "source": [
    "X = df_one_hot.drop('price', axis=1)\n",
    "y = df_one_hot['price']\n",
    "X_train, X_test, y_train, y_test = train_test_split(X,y, test_size=0.3)"
   ]
  },
  {
   "cell_type": "markdown",
   "id": "7f3fc5ac",
   "metadata": {},
   "source": [
    "### 1 - Linear Regression"
   ]
  },
  {
   "cell_type": "code",
   "execution_count": 42,
   "id": "a9f68807",
   "metadata": {},
   "outputs": [
    {
     "name": "stdout",
     "output_type": "stream",
     "text": [
      "R2 Score for Test Set of Linear Regression: 0.599\n",
      "Mean Squared Error for Test Set of Linear Regression: 49750314480.433\n",
      "Root Mean Squared Error for Test Set of Linear Regression: 223047.785\n"
     ]
    }
   ],
   "source": [
    "linear_model = LinearRegression().fit(X_train,y_train)\n",
    "y_pred = linear_model.predict(X_test)\n",
    "r2_test = r2_score(y_test,y_pred)\n",
    "mse_test = mean_squared_error(y_test,y_pred)\n",
    "rmse_test = np.sqrt(mean_squared_error(y_test,y_pred))\n",
    "\n",
    "print('R2 Score for Test Set of Linear Regression:', round(r2_test,3))\n",
    "print('Mean Squared Error for Test Set of Linear Regression:', round(mse_test,3))\n",
    "print('Root Mean Squared Error for Test Set of Linear Regression:', round(rmse_test,3))"
   ]
  },
  {
   "cell_type": "markdown",
   "id": "e05411b6",
   "metadata": {},
   "source": [
    "### 2 - Decision Tree Regression"
   ]
  },
  {
   "cell_type": "code",
   "execution_count": 44,
   "id": "a7df3fb3",
   "metadata": {},
   "outputs": [
    {
     "name": "stdout",
     "output_type": "stream",
     "text": [
      "R2 Score for Test Set of Decision Tree Regression: 0.361\n",
      "Mean Squared Error for Test Set of Decision Tree Regression: 79194648923.627\n",
      "Root Mean Squared Error for Test Set of Decision Tree Regression: 281415.438\n"
     ]
    }
   ],
   "source": [
    "dt_model = DecisionTreeRegressor().fit(X_train,y_train)\n",
    "y_pred_dt = dt_model.predict(X_test)\n",
    "r2_test_dt = r2_score(y_test, y_pred_dt)\n",
    "mse_test_dt = mean_squared_error(y_test,y_pred_dt)\n",
    "rmse_test_dt = np.sqrt(mean_squared_error(y_test,y_pred_dt))\n",
    "\n",
    "print('R2 Score for Test Set of Decision Tree Regression:', round(r2_test_dt,3))\n",
    "print('Mean Squared Error for Test Set of Decision Tree Regression:', round(mse_test_dt,3))\n",
    "print('Root Mean Squared Error for Test Set of Decision Tree Regression:', round(rmse_test_dt,3))"
   ]
  },
  {
   "cell_type": "code",
   "execution_count": 64,
   "id": "61e01d52",
   "metadata": {},
   "outputs": [
    {
     "data": {
      "image/png": "[encoded data removed]",
      "text/plain": [
       "<Figure size 720x504 with 1 Axes>"
      ]
     },
     "metadata": {
      "needs_background": "light"
     },
     "output_type": "display_data"
    }
   ],
   "source": [
    "importances = dt_model.feature_importances_\n",
    "indices = np.argsort(importances)\n",
    "column_names = list(X_train.columns)\n",
    "\n",
    "plt.figure(figsize=(10,7))\n",
    "plt.barh(range(len(indices)), importances[indices], color='blue', align='center')\n",
    "plt.yticks(range(len(indices)), [column_names[i] for i in indices])\n",
    "plt.title('Decision Tree Model - Feature Importance Graph')\n",
    "plt.xlabel('Feature Importances')\n",
    "plt.show()"
   ]
  },
  {
   "cell_type": "markdown",
   "id": "74575721",
   "metadata": {},
   "source": [
    "### 3 - Random Forest Regression"
   ]
  },
  {
   "cell_type": "code",
   "execution_count": 77,
   "id": "0a179aa6",
   "metadata": {},
   "outputs": [
    {
     "name": "stdout",
     "output_type": "stream",
     "text": [
      "R2 Score for Test Set of Random Forest Regression: 0.674\n",
      "Mean Squared Error for Test Set of Random Forest Regression: 40417293613.65\n",
      "Root Mean Squared Error for Test Set of Random Forest Regression: 201040.527\n"
     ]
    }
   ],
   "source": [
    "rf_model = RandomForestRegressor().fit(X_train,y_train)\n",
    "y_pred_rf = rf_model.predict(X_test)\n",
    "r2_test_rf = r2_score(y_test, y_pred_rf)\n",
    "mse_test_rf = mean_squared_error(y_test,y_pred_rf)\n",
    "rmse_test_rf = np.sqrt(mean_squared_error(y_test,y_pred_rf))\n",
    "\n",
    "print('R2 Score for Test Set of Random Forest Regression:', round(r2_test_rf,3))\n",
    "print('Mean Squared Error for Test Set of Random Forest Regression:', round(mse_test_rf,3))\n",
    "print('Root Mean Squared Error for Test Set of Random Forest Regression:', round(rmse_test_rf,3))"
   ]
  },
  {
   "cell_type": "code",
   "execution_count": 74,
   "id": "046f8c4a",
   "metadata": {},
   "outputs": [
    {
     "data": {
      "image/png": "[encoded data removed]",
      "text/plain": [
       "<Figure size 720x504 with 1 Axes>"
      ]
     },
     "metadata": {
      "needs_background": "light"
     },
     "output_type": "display_data"
    }
   ],
   "source": [
    "Importance = pd.DataFrame({'Importance':rf_model.feature_importances_*100}, index= X_train.columns)\n",
    "Importance.nlargest(15, columns='Importance').sort_values(by='Importance', ascending=True).plot(kind='barh',figsize=(10,7))\n",
    "plt.title('Random Forest Model - Feature Importance Graph')\n",
    "plt.xlabel('Feature Importances')\n",
    "plt.show()"
   ]
  },
  {
   "cell_type": "markdown",
   "id": "4915bd33",
   "metadata": {},
   "source": [
    "### 4 - Gradient Boosting Regression"
   ]
  },
  {
   "cell_type": "code",
   "execution_count": 78,
   "id": "957c8d2d",
   "metadata": {},
   "outputs": [
    {
     "name": "stdout",
     "output_type": "stream",
     "text": [
      "R2 Score for Test Set of Gradient Boosting Regression: 0.639\n",
      "Mean Squared Error for Test Set of Gradient Boosting Regression: 44754051144.874\n",
      "Root Mean Squared Error for Test Set of Gradient Boosting Regression: 211551.533\n"
     ]
    }
   ],
   "source": [
    "gbm_model = GradientBoostingRegressor().fit(X_train,y_train)\n",
    "y_pred_gbm = gbm_model.predict(X_test)\n",
    "r2_test_gbm = r2_score(y_test, y_pred_gbm)\n",
    "mse_test_gbm = mean_squared_error(y_test,y_pred_gbm)\n",
    "rmse_test_gbm = np.sqrt(mean_squared_error(y_test,y_pred_gbm))\n",
    "\n",
    "print('R2 Score for Test Set of Gradient Boosting Regression:', round(r2_test_gbm,3))\n",
    "print('Mean Squared Error for Test Set of Gradient Boosting Regression:', round(mse_test_gbm,3))\n",
    "print('Root Mean Squared Error for Test Set of Gradient Boosting Regression:', round(rmse_test_gbm,3))"
   ]
  },
  {
   "cell_type": "code",
   "execution_count": 79,
   "id": "3cc00fcd",
   "metadata": {},
   "outputs": [
    {
     "data": {
      "image/png": "[encoded data removed]",
      "text/plain": [
       "<Figure size 720x504 with 1 Axes>"
      ]
     },
     "metadata": {
      "needs_background": "light"
     },
     "output_type": "display_data"
    }
   ],
   "source": [
    "Importance = pd.DataFrame({'Importance':gbm_model.feature_importances_*100}, index= X_train.columns)\n",
    "Importance.nlargest(15, columns='Importance').sort_values(by='Importance', ascending=True).plot(kind='barh',figsize=(10,7))\n",
    "plt.title('Gradient Boosting Model - Feature Importance Graph')\n",
    "plt.xlabel('Feature Importances')\n",
    "plt.show()"
   ]
  },
  {
   "cell_type": "markdown",
   "id": "7b734736",
   "metadata": {},
   "source": [
    "### 5 - Lasso Regression ( L1 )"
   ]
  },
  {
   "cell_type": "code",
   "execution_count": 80,
   "id": "8de65c9c",
   "metadata": {},
   "outputs": [
    {
     "name": "stdout",
     "output_type": "stream",
     "text": [
      "R2 Score for Test Set of Lasso Regression: 0.605\n",
      "Mean Squared Error for Test Set of Lasso Regression: 48977855638.571\n",
      "Root Mean Squared Error for Test Set of Lasso Regression: 221309.412\n"
     ]
    }
   ],
   "source": [
    "lasso_model = Lasso().fit(X_train,y_train)\n",
    "y_pred_lasso = lasso_model.predict(X_test)\n",
    "r2_test_lasso = r2_score(y_test, y_pred_lasso)\n",
    "mse_test_lasso = mean_squared_error(y_test,y_pred_lasso)\n",
    "rmse_test_lasso = np.sqrt(mean_squared_error(y_test,y_pred_lasso))\n",
    "\n",
    "print('R2 Score for Test Set of Lasso Regression:', round(r2_test_lasso,3))\n",
    "print('Mean Squared Error for Test Set of Lasso Regression:', round(mse_test_lasso,3))\n",
    "print('Root Mean Squared Error for Test Set of Lasso Regression:', round(rmse_test_lasso,3))"
   ]
  },
  {
   "cell_type": "code",
   "execution_count": 82,
   "id": "38c4c43a",
   "metadata": {},
   "outputs": [
    {
     "data": {
      "text/html": [
       "\n",
       "    <style>\n",
       "    table.eli5-weights tr:hover {\n",
       "        filter: brightness(85%);\n",
       "    }\n",
       "</style>\n",
       "\n",
       "\n",
       "\n",
       "    \n",
       "\n",
       "    \n",
       "\n",
       "    \n",
       "\n",
       "    \n",
       "\n",
       "    \n",
       "\n",
       "    \n",
       "\n",
       "\n",
       "    \n",
       "\n",
       "    \n",
       "\n",
       "    \n",
       "\n",
       "    \n",
       "        \n",
       "\n",
       "    \n",
       "\n",
       "        \n",
       "            \n",
       "                \n",
       "                \n",
       "    \n",
       "        <p style=\"margin-bottom: 0.5em; margin-top: 0em\">\n",
       "            <b>\n",
       "    \n",
       "        y\n",
       "    \n",
       "</b>\n",
       "\n",
       "top features\n",
       "        </p>\n",
       "    \n",
       "    <table class=\"eli5-weights\"\n",
       "           style=\"border-collapse: collapse; border: none; margin-top: 0em; table-layout: auto; margin-bottom: 2em;\">\n",
       "        <thead>\n",
       "        <tr style=\"border: none;\">\n",
       "            \n",
       "                <th style=\"padding: 0 1em 0 0.5em; text-align: right; border: none;\" title=\"Feature weights. Note that weights do not account for feature value scales, so if feature values have different scales, features with highest weights might not be the most important.\">\n",
       "                    Weight<sup>?</sup>\n",
       "                </th>\n",
       "            \n",
       "            <th style=\"padding: 0 0.5em 0 0.5em; text-align: left; border: none;\">Feature</th>\n",
       "            \n",
       "        </tr>\n",
       "        </thead>\n",
       "        <tbody>\n",
       "        \n",
       "            <tr style=\"background-color: hsl(120, 100.00%, 80.00%); border: none;\">\n",
       "    <td style=\"padding: 0 1em 0 0.5em; text-align: right; border: none;\">\n",
       "        +908030.360\n",
       "    </td>\n",
       "    <td style=\"padding: 0 0.5em 0 0.5em; text-align: left; border: none;\">\n",
       "        grade_Others\n",
       "    </td>\n",
       "    \n",
       "</tr>\n",
       "        \n",
       "            <tr style=\"background-color: hsl(120, 100.00%, 83.88%); border: none;\">\n",
       "    <td style=\"padding: 0 1em 0 0.5em; text-align: right; border: none;\">\n",
       "        +667018.652\n",
       "    </td>\n",
       "    <td style=\"padding: 0 0.5em 0 0.5em; text-align: left; border: none;\">\n",
       "        sqft_basement\n",
       "    </td>\n",
       "    \n",
       "</tr>\n",
       "        \n",
       "            <tr style=\"background-color: hsl(120, 100.00%, 84.15%); border: none;\">\n",
       "    <td style=\"padding: 0 1em 0 0.5em; text-align: right; border: none;\">\n",
       "        +651060.307\n",
       "    </td>\n",
       "    <td style=\"padding: 0 0.5em 0 0.5em; text-align: left; border: none;\">\n",
       "        waterfront\n",
       "    </td>\n",
       "    \n",
       "</tr>\n",
       "        \n",
       "            <tr style=\"background-color: hsl(120, 100.00%, 85.49%); border: none;\">\n",
       "    <td style=\"padding: 0 1em 0 0.5em; text-align: right; border: none;\">\n",
       "        +574289.539\n",
       "    </td>\n",
       "    <td style=\"padding: 0 0.5em 0 0.5em; text-align: left; border: none;\">\n",
       "        bedrooms\n",
       "    </td>\n",
       "    \n",
       "</tr>\n",
       "        \n",
       "            <tr style=\"background-color: hsl(120, 100.00%, 85.67%); border: none;\">\n",
       "    <td style=\"padding: 0 1em 0 0.5em; text-align: right; border: none;\">\n",
       "        +563890.340\n",
       "    </td>\n",
       "    <td style=\"padding: 0 0.5em 0 0.5em; text-align: left; border: none;\">\n",
       "        grade_11\n",
       "    </td>\n",
       "    \n",
       "</tr>\n",
       "        \n",
       "            <tr style=\"background-color: hsl(120, 100.00%, 85.72%); border: none;\">\n",
       "    <td style=\"padding: 0 1em 0 0.5em; text-align: right; border: none;\">\n",
       "        +561211.263\n",
       "    </td>\n",
       "    <td style=\"padding: 0 0.5em 0 0.5em; text-align: left; border: none;\">\n",
       "        sqft_living15\n",
       "    </td>\n",
       "    \n",
       "</tr>\n",
       "        \n",
       "            <tr style=\"background-color: hsl(120, 100.00%, 89.27%); border: none;\">\n",
       "    <td style=\"padding: 0 1em 0 0.5em; text-align: right; border: none;\">\n",
       "        +372810.782\n",
       "    </td>\n",
       "    <td style=\"padding: 0 0.5em 0 0.5em; text-align: left; border: none;\">\n",
       "        &lt;BIAS&gt;\n",
       "    </td>\n",
       "    \n",
       "</tr>\n",
       "        \n",
       "            <tr style=\"background-color: hsl(120, 100.00%, 91.38%); border: none;\">\n",
       "    <td style=\"padding: 0 1em 0 0.5em; text-align: right; border: none;\">\n",
       "        +273030.229\n",
       "    </td>\n",
       "    <td style=\"padding: 0 0.5em 0 0.5em; text-align: left; border: none;\">\n",
       "        grade_10\n",
       "    </td>\n",
       "    \n",
       "</tr>\n",
       "        \n",
       "        \n",
       "            <tr style=\"background-color: hsl(120, 100.00%, 91.38%); border: none;\">\n",
       "                <td colspan=\"2\" style=\"padding: 0 0.5em 0 0.5em; text-align: center; border: none; white-space: nowrap;\">\n",
       "                    <i>&hellip; 9 more positive &hellip;</i>\n",
       "                </td>\n",
       "            </tr>\n",
       "        \n",
       "\n",
       "        \n",
       "            <tr style=\"background-color: hsl(0, 100.00%, 91.19%); border: none;\">\n",
       "                <td colspan=\"2\" style=\"padding: 0 0.5em 0 0.5em; text-align: center; border: none; white-space: nowrap;\">\n",
       "                    <i>&hellip; 13 more negative &hellip;</i>\n",
       "                </td>\n",
       "            </tr>\n",
       "        \n",
       "        \n",
       "            <tr style=\"background-color: hsl(0, 100.00%, 91.19%); border: none;\">\n",
       "    <td style=\"padding: 0 1em 0 0.5em; text-align: right; border: none;\">\n",
       "        -281548.444\n",
       "    </td>\n",
       "    <td style=\"padding: 0 0.5em 0 0.5em; text-align: left; border: none;\">\n",
       "        grade_6\n",
       "    </td>\n",
       "    \n",
       "</tr>\n",
       "        \n",
       "            <tr style=\"background-color: hsl(0, 100.00%, 89.97%); border: none;\">\n",
       "    <td style=\"padding: 0 1em 0 0.5em; text-align: right; border: none;\">\n",
       "        -338561.542\n",
       "    </td>\n",
       "    <td style=\"padding: 0 0.5em 0 0.5em; text-align: left; border: none;\">\n",
       "        grade_5\n",
       "    </td>\n",
       "    \n",
       "</tr>\n",
       "        \n",
       "\n",
       "        </tbody>\n",
       "    </table>\n",
       "\n",
       "            \n",
       "        \n",
       "\n",
       "        \n",
       "\n",
       "\n",
       "\n",
       "    \n",
       "\n",
       "    \n",
       "\n",
       "    \n",
       "\n",
       "    \n",
       "\n",
       "\n",
       "    \n",
       "\n",
       "    \n",
       "\n",
       "    \n",
       "\n",
       "    \n",
       "\n",
       "    \n",
       "\n",
       "    \n",
       "\n",
       "\n",
       "    \n",
       "\n",
       "    \n",
       "\n",
       "    \n",
       "\n",
       "    \n",
       "\n",
       "    \n",
       "\n",
       "    \n",
       "\n",
       "\n",
       "\n"
      ],
      "text/plain": [
       "<IPython.core.display.HTML object>"
      ]
     },
     "execution_count": 82,
     "metadata": {},
     "output_type": "execute_result"
    }
   ],
   "source": [
    "import eli5\n",
    "eli5.show_weights(lasso_model, feature_names = X_train.columns.tolist(),top=10)"
   ]
  },
  {
   "cell_type": "markdown",
   "id": "40099d71",
   "metadata": {},
   "source": [
    "### 6 - Ridge Regression ( L2 )"
   ]
  },
  {
   "cell_type": "code",
   "execution_count": 83,
   "id": "0e4d18e5",
   "metadata": {},
   "outputs": [
    {
     "name": "stdout",
     "output_type": "stream",
     "text": [
      "R2 Score for Test Set of Lasso Regression: 0.605\n",
      "Mean Squared Error for Test Set of Lasso Regression: 48935824905.61\n",
      "Root Mean Squared Error for Test Set of Lasso Regression: 221214.432\n"
     ]
    }
   ],
   "source": [
    "ridge_model = Ridge().fit(X_train,y_train)\n",
    "y_pred_ridge = ridge_model.predict(X_test)\n",
    "r2_test_ridge = r2_score(y_test, y_pred_ridge)\n",
    "mse_test_ridge = mean_squared_error(y_test,y_pred_ridge)\n",
    "rmse_test_ridge = np.sqrt(mean_squared_error(y_test,y_pred_ridge))\n",
    "\n",
    "print('R2 Score for Test Set of Lasso Regression:', round(r2_test_ridge,3))\n",
    "print('Mean Squared Error for Test Set of Lasso Regression:', round(mse_test_ridge,3))\n",
    "print('Root Mean Squared Error for Test Set of Lasso Regression:', round(rmse_test_ridge,3))"
   ]
  },
  {
   "cell_type": "code",
   "execution_count": 84,
   "id": "dc14667d",
   "metadata": {},
   "outputs": [
    {
     "data": {
      "text/html": [
       "\n",
       "    <style>\n",
       "    table.eli5-weights tr:hover {\n",
       "        filter: brightness(85%);\n",
       "    }\n",
       "</style>\n",
       "\n",
       "\n",
       "\n",
       "    \n",
       "\n",
       "    \n",
       "\n",
       "    \n",
       "\n",
       "    \n",
       "\n",
       "    \n",
       "\n",
       "    \n",
       "\n",
       "\n",
       "    \n",
       "\n",
       "    \n",
       "\n",
       "    \n",
       "\n",
       "    \n",
       "        \n",
       "\n",
       "    \n",
       "\n",
       "        \n",
       "            \n",
       "                \n",
       "                \n",
       "    \n",
       "        <p style=\"margin-bottom: 0.5em; margin-top: 0em\">\n",
       "            <b>\n",
       "    \n",
       "        y\n",
       "    \n",
       "</b>\n",
       "\n",
       "top features\n",
       "        </p>\n",
       "    \n",
       "    <table class=\"eli5-weights\"\n",
       "           style=\"border-collapse: collapse; border: none; margin-top: 0em; table-layout: auto; margin-bottom: 2em;\">\n",
       "        <thead>\n",
       "        <tr style=\"border: none;\">\n",
       "            \n",
       "                <th style=\"padding: 0 1em 0 0.5em; text-align: right; border: none;\" title=\"Feature weights. Note that weights do not account for feature value scales, so if feature values have different scales, features with highest weights might not be the most important.\">\n",
       "                    Weight<sup>?</sup>\n",
       "                </th>\n",
       "            \n",
       "            <th style=\"padding: 0 0.5em 0 0.5em; text-align: left; border: none;\">Feature</th>\n",
       "            \n",
       "        </tr>\n",
       "        </thead>\n",
       "        <tbody>\n",
       "        \n",
       "            <tr style=\"background-color: hsl(120, 100.00%, 80.00%); border: none;\">\n",
       "    <td style=\"padding: 0 1em 0 0.5em; text-align: right; border: none;\">\n",
       "        +797239.856\n",
       "    </td>\n",
       "    <td style=\"padding: 0 0.5em 0 0.5em; text-align: left; border: none;\">\n",
       "        grade_Others\n",
       "    </td>\n",
       "    \n",
       "</tr>\n",
       "        \n",
       "            <tr style=\"background-color: hsl(120, 100.00%, 82.36%); border: none;\">\n",
       "    <td style=\"padding: 0 1em 0 0.5em; text-align: right; border: none;\">\n",
       "        +666454.046\n",
       "    </td>\n",
       "    <td style=\"padding: 0 0.5em 0 0.5em; text-align: left; border: none;\">\n",
       "        sqft_basement\n",
       "    </td>\n",
       "    \n",
       "</tr>\n",
       "        \n",
       "            <tr style=\"background-color: hsl(120, 100.00%, 82.81%); border: none;\">\n",
       "    <td style=\"padding: 0 1em 0 0.5em; text-align: right; border: none;\">\n",
       "        +642058.723\n",
       "    </td>\n",
       "    <td style=\"padding: 0 0.5em 0 0.5em; text-align: left; border: none;\">\n",
       "        waterfront\n",
       "    </td>\n",
       "    \n",
       "</tr>\n",
       "        \n",
       "            <tr style=\"background-color: hsl(120, 100.00%, 84.32%); border: none;\">\n",
       "    <td style=\"padding: 0 1em 0 0.5em; text-align: right; border: none;\">\n",
       "        +563123.444\n",
       "    </td>\n",
       "    <td style=\"padding: 0 0.5em 0 0.5em; text-align: left; border: none;\">\n",
       "        sqft_living15\n",
       "    </td>\n",
       "    \n",
       "</tr>\n",
       "        \n",
       "            <tr style=\"background-color: hsl(120, 100.00%, 85.07%); border: none;\">\n",
       "    <td style=\"padding: 0 1em 0 0.5em; text-align: right; border: none;\">\n",
       "        +525086.642\n",
       "    </td>\n",
       "    <td style=\"padding: 0 0.5em 0 0.5em; text-align: left; border: none;\">\n",
       "        bedrooms\n",
       "    </td>\n",
       "    \n",
       "</tr>\n",
       "        \n",
       "            <tr style=\"background-color: hsl(120, 100.00%, 86.01%); border: none;\">\n",
       "    <td style=\"padding: 0 1em 0 0.5em; text-align: right; border: none;\">\n",
       "        +478317.739\n",
       "    </td>\n",
       "    <td style=\"padding: 0 0.5em 0 0.5em; text-align: left; border: none;\">\n",
       "        &lt;BIAS&gt;\n",
       "    </td>\n",
       "    \n",
       "</tr>\n",
       "        \n",
       "            <tr style=\"background-color: hsl(120, 100.00%, 86.40%); border: none;\">\n",
       "    <td style=\"padding: 0 1em 0 0.5em; text-align: right; border: none;\">\n",
       "        +459448.835\n",
       "    </td>\n",
       "    <td style=\"padding: 0 0.5em 0 0.5em; text-align: left; border: none;\">\n",
       "        grade_11\n",
       "    </td>\n",
       "    \n",
       "</tr>\n",
       "        \n",
       "        \n",
       "            <tr style=\"background-color: hsl(120, 100.00%, 86.40%); border: none;\">\n",
       "                <td colspan=\"2\" style=\"padding: 0 0.5em 0 0.5em; text-align: center; border: none; white-space: nowrap;\">\n",
       "                    <i>&hellip; 10 more positive &hellip;</i>\n",
       "                </td>\n",
       "            </tr>\n",
       "        \n",
       "\n",
       "        \n",
       "            <tr style=\"background-color: hsl(0, 100.00%, 89.52%); border: none;\">\n",
       "                <td colspan=\"2\" style=\"padding: 0 0.5em 0 0.5em; text-align: center; border: none; white-space: nowrap;\">\n",
       "                    <i>&hellip; 13 more negative &hellip;</i>\n",
       "                </td>\n",
       "            </tr>\n",
       "        \n",
       "        \n",
       "            <tr style=\"background-color: hsl(0, 100.00%, 89.52%); border: none;\">\n",
       "    <td style=\"padding: 0 1em 0 0.5em; text-align: right; border: none;\">\n",
       "        -316615.549\n",
       "    </td>\n",
       "    <td style=\"padding: 0 0.5em 0 0.5em; text-align: left; border: none;\">\n",
       "        grade_7\n",
       "    </td>\n",
       "    \n",
       "</tr>\n",
       "        \n",
       "            <tr style=\"background-color: hsl(0, 100.00%, 87.99%); border: none;\">\n",
       "    <td style=\"padding: 0 1em 0 0.5em; text-align: right; border: none;\">\n",
       "        -384727.519\n",
       "    </td>\n",
       "    <td style=\"padding: 0 0.5em 0 0.5em; text-align: left; border: none;\">\n",
       "        grade_6\n",
       "    </td>\n",
       "    \n",
       "</tr>\n",
       "        \n",
       "            <tr style=\"background-color: hsl(0, 100.00%, 86.81%); border: none;\">\n",
       "    <td style=\"padding: 0 1em 0 0.5em; text-align: right; border: none;\">\n",
       "        -439698.787\n",
       "    </td>\n",
       "    <td style=\"padding: 0 0.5em 0 0.5em; text-align: left; border: none;\">\n",
       "        grade_5\n",
       "    </td>\n",
       "    \n",
       "</tr>\n",
       "        \n",
       "\n",
       "        </tbody>\n",
       "    </table>\n",
       "\n",
       "            \n",
       "        \n",
       "\n",
       "        \n",
       "\n",
       "\n",
       "\n",
       "    \n",
       "\n",
       "    \n",
       "\n",
       "    \n",
       "\n",
       "    \n",
       "\n",
       "\n",
       "    \n",
       "\n",
       "    \n",
       "\n",
       "    \n",
       "\n",
       "    \n",
       "\n",
       "    \n",
       "\n",
       "    \n",
       "\n",
       "\n",
       "    \n",
       "\n",
       "    \n",
       "\n",
       "    \n",
       "\n",
       "    \n",
       "\n",
       "    \n",
       "\n",
       "    \n",
       "\n",
       "\n",
       "\n"
      ],
      "text/plain": [
       "<IPython.core.display.HTML object>"
      ]
     },
     "execution_count": 84,
     "metadata": {},
     "output_type": "execute_result"
    }
   ],
   "source": [
    "eli5.show_weights(ridge_model, feature_names = X_train.columns.tolist(),top=10)"
   ]
  },
  {
   "cell_type": "markdown",
   "id": "ec321312",
   "metadata": {},
   "source": [
    "### 7 - ElasticNet Regression ( L1+L2)"
   ]
  },
  {
   "cell_type": "code",
   "execution_count": 85,
   "id": "36e7bf38",
   "metadata": {},
   "outputs": [
    {
     "name": "stdout",
     "output_type": "stream",
     "text": [
      "R2 Score for Test Set of Lasso Regression: 0.18\n",
      "Mean Squared Error for Test Set of Lasso Regression: 101619909093.041\n",
      "Root Mean Squared Error for Test Set of Lasso Regression: 318778.778\n"
     ]
    }
   ],
   "source": [
    "elastic_model = ElasticNet().fit(X_train,y_train)\n",
    "y_pred_elastic = elastic_model.predict(X_test)\n",
    "r2_test_elastic = r2_score(y_test, y_pred_elastic)\n",
    "mse_test_elastic = mean_squared_error(y_test,y_pred_elastic)\n",
    "rmse_test_elastic = np.sqrt(mean_squared_error(y_test,y_pred_elastic))\n",
    "\n",
    "print('R2 Score for Test Set of Lasso Regression:', round(r2_test_elastic,3))\n",
    "print('Mean Squared Error for Test Set of Lasso Regression:', round(mse_test_elastic,3))\n",
    "print('Root Mean Squared Error for Test Set of Lasso Regression:', round(rmse_test_elastic,3))"
   ]
  },
  {
   "cell_type": "markdown",
   "id": "7aa64401",
   "metadata": {},
   "source": [
    "### 8 - Ordinary Least Square (OLS) Regression"
   ]
  },
  {
   "cell_type": "code",
   "execution_count": 92,
   "id": "9e99b45f",
   "metadata": {},
   "outputs": [
    {
     "name": "stdout",
     "output_type": "stream",
     "text": [
      "                            OLS Regression Results                            \n",
      "==============================================================================\n",
      "Dep. Variable:                  price   R-squared:                       0.616\n",
      "Model:                            OLS   Adj. R-squared:                  0.615\n",
      "Method:                 Least Squares   F-statistic:                     1281.\n",
      "Date:                Tue, 16 Jan 2024   Prob (F-statistic):               0.00\n",
      "Time:                        21:38:56   Log-Likelihood:            -2.9724e+05\n",
      "No. Observations:               21611   AIC:                         5.945e+05\n",
      "Df Residuals:                   21583   BIC:                         5.948e+05\n",
      "Df Model:                          27                                         \n",
      "Covariance Type:            nonrobust                                         \n",
      "=================================================================================================\n",
      "                                    coef    std err          t      P>|t|      [0.025      0.975]\n",
      "-------------------------------------------------------------------------------------------------\n",
      "const                         -1.141e+16   6.33e+16     -0.180      0.857   -1.36e+17    1.13e+17\n",
      "bedrooms                       5.295e+05   6.38e+04      8.304      0.000    4.05e+05    6.54e+05\n",
      "floors                          2.46e+05   9784.400     25.146      0.000    2.27e+05    2.65e+05\n",
      "waterfront                     5.323e+05   2.23e+04     23.902      0.000    4.89e+05    5.76e+05\n",
      "view_0.0                      -2.687e+15   1.49e+16     -0.180      0.857   -3.19e+16    2.66e+16\n",
      "view_3.0                      -2.687e+15   1.49e+16     -0.180      0.857   -3.19e+16    2.66e+16\n",
      "view_4.0                      -2.687e+15   1.49e+16     -0.180      0.857   -3.19e+16    2.66e+16\n",
      "view_2.0                      -2.687e+15   1.49e+16     -0.180      0.857   -3.19e+16    2.66e+16\n",
      "view_1.0                      -2.687e+15   1.49e+16     -0.180      0.857   -3.19e+16    2.66e+16\n",
      "condition_3                    2.205e+16   1.22e+17      0.180      0.857   -2.18e+17    2.62e+17\n",
      "condition_5                    2.205e+16   1.22e+17      0.180      0.857   -2.18e+17    2.62e+17\n",
      "condition_4                    2.205e+16   1.22e+17      0.180      0.857   -2.18e+17    2.62e+17\n",
      "condition_Others               2.205e+16   1.22e+17      0.180      0.857   -2.18e+17    2.62e+17\n",
      "grade_7                        3.817e+14   2.12e+15      0.180      0.857   -3.77e+15    4.53e+15\n",
      "grade_6                        3.817e+14   2.12e+15      0.180      0.857   -3.77e+15    4.53e+15\n",
      "grade_8                        3.817e+14   2.12e+15      0.180      0.857   -3.77e+15    4.53e+15\n",
      "grade_11                       3.817e+14   2.12e+15      0.180      0.857   -3.77e+15    4.53e+15\n",
      "grade_9                        3.817e+14   2.12e+15      0.180      0.857   -3.77e+15    4.53e+15\n",
      "grade_5                        3.817e+14   2.12e+15      0.180      0.857   -3.77e+15    4.53e+15\n",
      "grade_10                       3.817e+14   2.12e+15      0.180      0.857   -3.77e+15    4.53e+15\n",
      "grade_Others                   3.817e+14   2.12e+15      0.180      0.857   -3.77e+15    4.53e+15\n",
      "sqft_basement                  6.782e+05   2.01e+04     33.821      0.000    6.39e+05    7.17e+05\n",
      "sqft_living15                  5.516e+05   1.99e+04     27.727      0.000    5.13e+05    5.91e+05\n",
      "sqft_lot15                    -2.336e+05   5.07e+04     -4.608      0.000   -3.33e+05   -1.34e+05\n",
      "season_AUTUMN                 -4.146e+15    2.3e+16     -0.180      0.857   -4.93e+16     4.1e+16\n",
      "season_WINTER                 -4.146e+15    2.3e+16     -0.180      0.857   -4.93e+16     4.1e+16\n",
      "season_SPRING                 -4.146e+15    2.3e+16     -0.180      0.857   -4.93e+16     4.1e+16\n",
      "season_SUMMER                 -4.146e+15    2.3e+16     -0.180      0.857   -4.93e+16     4.1e+16\n",
      "week_SECOND_WEEK              -4.187e+15   2.32e+16     -0.180      0.857   -4.97e+16    4.14e+16\n",
      "week_LAST_WEEK                -4.187e+15   2.32e+16     -0.180      0.857   -4.97e+16    4.14e+16\n",
      "week_THIRD_WEEK               -4.187e+15   2.32e+16     -0.180      0.857   -4.97e+16    4.14e+16\n",
      "week_FIRST_WEEK               -4.187e+15   2.32e+16     -0.180      0.857   -4.97e+16    4.14e+16\n",
      "building_age_after_renovation  2.501e+05   8336.135     29.999      0.000    2.34e+05    2.66e+05\n",
      "==============================================================================\n",
      "Omnibus:                    17134.060   Durbin-Watson:                   1.973\n",
      "Prob(Omnibus):                  0.000   Jarque-Bera (JB):          1981656.775\n",
      "Skew:                           3.122   Prob(JB):                         0.00\n",
      "Kurtosis:                      49.494   Cond. No.                     1.20e+16\n",
      "==============================================================================\n",
      "\n",
      "Notes:\n",
      "[1] Standard Errors assume that the covariance matrix of the errors is correctly specified.\n",
      "[2] The smallest eigenvalue is 5.11e-28. This might indicate that there are\n",
      "strong multicollinearity problems or that the design matrix is singular.\n"
     ]
    }
   ],
   "source": [
    "X_OLS = smf.add_constant(X)\n",
    "results = smf.OLS(endog=y, exog=X_OLS.astype(float)).fit()\n",
    "print(results.summary())"
   ]
  },
  {
   "cell_type": "markdown",
   "id": "3bef894a",
   "metadata": {},
   "source": [
    "### 8.1 - Ordinary Least Square (OLS) Regression - STEPWISE"
   ]
  },
  {
   "cell_type": "code",
   "execution_count": 95,
   "id": "14e4bdd5",
   "metadata": {},
   "outputs": [
    {
     "name": "stdout",
     "output_type": "stream",
     "text": [
      "                                 OLS Regression Results                                \n",
      "=======================================================================================\n",
      "Dep. Variable:                  price   R-squared (uncentered):                   0.711\n",
      "Model:                            OLS   Adj. R-squared (uncentered):              0.711\n",
      "Method:                 Least Squares   F-statistic:                          5.322e+04\n",
      "Date:                Tue, 16 Jan 2024   Prob (F-statistic):                        0.00\n",
      "Time:                        22:00:42   Log-Likelihood:                     -3.0660e+05\n",
      "No. Observations:               21611   AIC:                                  6.132e+05\n",
      "Df Residuals:                   21610   BIC:                                  6.132e+05\n",
      "Df Model:                           1                                                  \n",
      "Covariance Type:            nonrobust                                                  \n",
      "==============================================================================\n",
      "                 coef    std err          t      P>|t|      [0.025      0.975]\n",
      "------------------------------------------------------------------------------\n",
      "bedrooms    5.197e+06   2.25e+04    230.694      0.000    5.15e+06    5.24e+06\n",
      "==============================================================================\n",
      "Omnibus:                    17894.605   Durbin-Watson:                   1.958\n",
      "Prob(Omnibus):                  0.000   Jarque-Bera (JB):          1088570.341\n",
      "Skew:                           3.594   Prob(JB):                         0.00\n",
      "Kurtosis:                      37.018   Cond. No.                         1.00\n",
      "==============================================================================\n",
      "\n",
      "Notes:\n",
      "[1] R² is computed without centering (uncentered) since the model does not contain a constant.\n",
      "[2] Standard Errors assume that the covariance matrix of the errors is correctly specified.\n"
     ]
    }
   ],
   "source": [
    "X_OLS_stepwise_1 = X_OLS[[\"bedrooms\"]]\n",
    "reg_model_ols = smf.OLS(endog=y, exog=X_OLS_stepwise_1.astype(float)).fit()\n",
    "print(reg_model_ols.summary())"
   ]
  },
  {
   "cell_type": "code",
   "execution_count": 96,
   "id": "c5e277c1",
   "metadata": {},
   "outputs": [
    {
     "name": "stdout",
     "output_type": "stream",
     "text": [
      "                                 OLS Regression Results                                \n",
      "=======================================================================================\n",
      "Dep. Variable:                  price   R-squared (uncentered):                   0.725\n",
      "Model:                            OLS   Adj. R-squared (uncentered):              0.725\n",
      "Method:                 Least Squares   F-statistic:                          2.855e+04\n",
      "Date:                Tue, 16 Jan 2024   Prob (F-statistic):                        0.00\n",
      "Time:                        22:01:31   Log-Likelihood:                     -3.0606e+05\n",
      "No. Observations:               21611   AIC:                                  6.121e+05\n",
      "Df Residuals:                   21609   BIC:                                  6.121e+05\n",
      "Df Model:                           2                                                  \n",
      "Covariance Type:            nonrobust                                                  \n",
      "==============================================================================\n",
      "                 coef    std err          t      P>|t|      [0.025      0.975]\n",
      "------------------------------------------------------------------------------\n",
      "bedrooms    4.505e+06   3.02e+04    149.344      0.000    4.45e+06    4.56e+06\n",
      "floors      3.657e+05   1.09e+04     33.503      0.000    3.44e+05    3.87e+05\n",
      "==============================================================================\n",
      "Omnibus:                    18432.599   Durbin-Watson:                   1.963\n",
      "Prob(Omnibus):                  0.000   Jarque-Bera (JB):          1188507.136\n",
      "Skew:                           3.752   Prob(JB):                         0.00\n",
      "Kurtosis:                      38.547   Cond. No.                         4.04\n",
      "==============================================================================\n",
      "\n",
      "Notes:\n",
      "[1] R² is computed without centering (uncentered) since the model does not contain a constant.\n",
      "[2] Standard Errors assume that the covariance matrix of the errors is correctly specified.\n"
     ]
    }
   ],
   "source": [
    "X_OLS_stepwise_2 = X_OLS[[\"bedrooms\",\"floors\"]]\n",
    "reg_model_ols = smf.OLS(endog=y, exog=X_OLS_stepwise_2.astype(float)).fit()\n",
    "print(reg_model_ols.summary())"
   ]
  },
  {
   "cell_type": "code",
   "execution_count": 97,
   "id": "17e90102",
   "metadata": {},
   "outputs": [
    {
     "name": "stdout",
     "output_type": "stream",
     "text": [
      "                                 OLS Regression Results                                \n",
      "=======================================================================================\n",
      "Dep. Variable:                  price   R-squared (uncentered):                   0.738\n",
      "Model:                            OLS   Adj. R-squared (uncentered):              0.738\n",
      "Method:                 Least Squares   F-statistic:                          2.029e+04\n",
      "Date:                Tue, 16 Jan 2024   Prob (F-statistic):                        0.00\n",
      "Time:                        22:02:16   Log-Likelihood:                     -3.0555e+05\n",
      "No. Observations:               21611   AIC:                                  6.111e+05\n",
      "Df Residuals:                   21608   BIC:                                  6.111e+05\n",
      "Df Model:                           3                                                  \n",
      "Covariance Type:            nonrobust                                                  \n",
      "==============================================================================\n",
      "                 coef    std err          t      P>|t|      [0.025      0.975]\n",
      "------------------------------------------------------------------------------\n",
      "bedrooms    5.977e+06   5.45e+04    109.721      0.000    5.87e+06    6.08e+06\n",
      "floors      3.818e+05   1.07e+04     35.767      0.000    3.61e+05    4.03e+05\n",
      "view_0.0   -1.845e+05   5743.116    -32.133      0.000   -1.96e+05   -1.73e+05\n",
      "==============================================================================\n",
      "Omnibus:                    16624.056   Durbin-Watson:                   1.949\n",
      "Prob(Omnibus):                  0.000   Jarque-Bera (JB):          1069187.138\n",
      "Skew:                           3.165   Prob(JB):                         0.00\n",
      "Kurtosis:                      36.872   Cond. No.                         23.5\n",
      "==============================================================================\n",
      "\n",
      "Notes:\n",
      "[1] R² is computed without centering (uncentered) since the model does not contain a constant.\n",
      "[2] Standard Errors assume that the covariance matrix of the errors is correctly specified.\n"
     ]
    }
   ],
   "source": [
    "X_OLS_stepwise_3 = X_OLS[[\"bedrooms\",\"floors\",\"view_0.0\"]]\n",
    "reg_model_ols = smf.OLS(endog=y, exog=X_OLS_stepwise_3.astype(float)).fit()\n",
    "print(reg_model_ols.summary())"
   ]
  },
  {
   "cell_type": "markdown",
   "id": "e8a6e20d",
   "metadata": {},
   "source": [
    "### 8.1 - Ordinary Least Square (OLS) Regression - FINAL"
   ]
  },
  {
   "cell_type": "code",
   "execution_count": 94,
   "id": "06f9d738",
   "metadata": {},
   "outputs": [
    {
     "name": "stdout",
     "output_type": "stream",
     "text": [
      "                                 OLS Regression Results                                \n",
      "=======================================================================================\n",
      "Dep. Variable:                  price   R-squared (uncentered):                   0.832\n",
      "Model:                            OLS   Adj. R-squared (uncentered):              0.832\n",
      "Method:                 Least Squares   F-statistic:                          1.530e+04\n",
      "Date:                Tue, 16 Jan 2024   Prob (F-statistic):                        0.00\n",
      "Time:                        21:53:07   Log-Likelihood:                     -3.0074e+05\n",
      "No. Observations:               21611   AIC:                                  6.015e+05\n",
      "Df Residuals:                   21604   BIC:                                  6.016e+05\n",
      "Df Model:                           7                                                  \n",
      "Covariance Type:            nonrobust                                                  \n",
      "=================================================================================================\n",
      "                                    coef    std err          t      P>|t|      [0.025      0.975]\n",
      "-------------------------------------------------------------------------------------------------\n",
      "bedrooms                      -4.452e+05   5.74e+04     -7.760      0.000   -5.58e+05   -3.33e+05\n",
      "floors                         3.898e+05   1.01e+04     38.411      0.000     3.7e+05     4.1e+05\n",
      "waterfront                     8.427e+05   2.12e+04     39.696      0.000    8.01e+05    8.84e+05\n",
      "sqft_basement                  1.043e+06   2.22e+04     46.949      0.000    9.99e+05    1.09e+06\n",
      "sqft_living15                  1.435e+06   1.74e+04     82.485      0.000     1.4e+06    1.47e+06\n",
      "sqft_lot15                    -1.092e+05   5.92e+04     -1.844      0.065   -2.25e+05    6857.326\n",
      "building_age_after_renovation  1.515e+05   7079.962     21.392      0.000    1.38e+05    1.65e+05\n",
      "==============================================================================\n",
      "Omnibus:                    19375.394   Durbin-Watson:                   1.972\n",
      "Prob(Omnibus):                  0.000   Jarque-Bera (JB):          1802280.378\n",
      "Skew:                           3.937   Prob(JB):                         0.00\n",
      "Kurtosis:                      47.040   Cond. No.                         17.4\n",
      "==============================================================================\n",
      "\n",
      "Notes:\n",
      "[1] R² is computed without centering (uncentered) since the model does not contain a constant.\n",
      "[2] Standard Errors assume that the covariance matrix of the errors is correctly specified.\n"
     ]
    }
   ],
   "source": [
    "X_OLS_chosen = X_OLS[[\"bedrooms\",\"floors\",\"waterfront\",\"sqft_basement\",\"sqft_living15\",\n",
    "                      \"sqft_lot15\",\"building_age_after_renovation\"]]\n",
    "reg_model_ols = smf.OLS(endog=y, exog=X_OLS_chosen.astype(float)).fit()\n",
    "print(reg_model_ols.summary())"
   ]
  },
  {
   "cell_type": "markdown",
   "id": "28036d75",
   "metadata": {},
   "source": [
    "## Model Comparisons"
   ]
  },
  {
   "cell_type": "code",
   "execution_count": 101,
   "id": "5445f495",
   "metadata": {},
   "outputs": [
    {
     "data": {
      "image/png": "[encoded data removed]",
      "text/plain": [
       "<Figure size 432x288 with 1 Axes>"
      ]
     },
     "metadata": {
      "needs_background": "light"
     },
     "output_type": "display_data"
    }
   ],
   "source": [
    "models = [linear_model, rf_model, dt_model, gbm_model, lasso_model, ridge_model, elastic_model]\n",
    "\n",
    "result_rsquared = []\n",
    "results_rsquared = pd.DataFrame(columns=[\"Models\", \"R-Squared\"])\n",
    "\n",
    "for model in models:\n",
    "    names = model.__class__.__name__\n",
    "    y_pred = model.predict(X_test)\n",
    "    r_squared = cross_val_score(model, X_test, y_test, cv=3, scoring=\"r2\", n_jobs=-1).mean()\n",
    "    result_rsquared = pd.DataFrame([[names, r_squared*100]], columns=[\"Models\", \"R-Squared\"])\n",
    "    results_rsquared = results_rsquared.append(result_rsquared) \n",
    "\n",
    "sns.barplot(x='R-Squared', y='Models', data= results_rsquared, palette=\"coolwarm\")\n",
    "plt.xlabel('R-Squared %')\n",
    "plt.ylabel(\"Sharat's Model Names\")\n",
    "plt.title(\"Sharat's Models\", loc=\"center\")\n",
    "plt.show();"
   ]
  },
  {
   "cell_type": "code",
   "execution_count": 105,
   "id": "d03cc18a",
   "metadata": {},
   "outputs": [
    {
     "data": {
      "text/html": [
       "<div>\n",
       "<style scoped>\n",
       "    .dataframe tbody tr th:only-of-type {\n",
       "        vertical-align: middle;\n",
       "    }\n",
       "\n",
       "    .dataframe tbody tr th {\n",
       "        vertical-align: top;\n",
       "    }\n",
       "\n",
       "    .dataframe thead th {\n",
       "        text-align: right;\n",
       "    }\n",
       "</style>\n",
       "<table border=\"1\" class=\"dataframe\">\n",
       "  <thead>\n",
       "    <tr style=\"text-align: right;\">\n",
       "      <th></th>\n",
       "      <th>Models</th>\n",
       "      <th>R-Squared</th>\n",
       "    </tr>\n",
       "  </thead>\n",
       "  <tbody>\n",
       "    <tr>\n",
       "      <th>0</th>\n",
       "      <td>GradientBoostingRegressor</td>\n",
       "      <td>65.146580</td>\n",
       "    </tr>\n",
       "    <tr>\n",
       "      <th>0</th>\n",
       "      <td>RandomForestRegressor</td>\n",
       "      <td>63.045742</td>\n",
       "    </tr>\n",
       "    <tr>\n",
       "      <th>0</th>\n",
       "      <td>Ridge</td>\n",
       "      <td>59.940822</td>\n",
       "    </tr>\n",
       "    <tr>\n",
       "      <th>0</th>\n",
       "      <td>Lasso</td>\n",
       "      <td>59.880836</td>\n",
       "    </tr>\n",
       "    <tr>\n",
       "      <th>0</th>\n",
       "      <td>LinearRegression</td>\n",
       "      <td>59.498757</td>\n",
       "    </tr>\n",
       "    <tr>\n",
       "      <th>0</th>\n",
       "      <td>DecisionTreeRegressor</td>\n",
       "      <td>30.682908</td>\n",
       "    </tr>\n",
       "    <tr>\n",
       "      <th>0</th>\n",
       "      <td>ElasticNet</td>\n",
       "      <td>17.309369</td>\n",
       "    </tr>\n",
       "  </tbody>\n",
       "</table>\n",
       "</div>"
      ],
      "text/plain": [
       "                      Models  R-Squared\n",
       "0  GradientBoostingRegressor  65.146580\n",
       "0      RandomForestRegressor  63.045742\n",
       "0                      Ridge  59.940822\n",
       "0                      Lasso  59.880836\n",
       "0           LinearRegression  59.498757\n",
       "0      DecisionTreeRegressor  30.682908\n",
       "0                 ElasticNet  17.309369"
      ]
     },
     "execution_count": 105,
     "metadata": {},
     "output_type": "execute_result"
    }
   ],
   "source": [
    "results_rsquared.sort_values(by=\"R-Squared\", ascending=False)"
   ]
  },
  {
   "cell_type": "markdown",
   "id": "a05ae059",
   "metadata": {},
   "source": [
    "## Model Optimization for The Best Model (Gradient Boosting Regressor)"
   ]
  },
  {
   "cell_type": "code",
   "execution_count": 107,
   "id": "54348c5f",
   "metadata": {},
   "outputs": [
    {
     "data": {
      "text/plain": [
       "RandomizedSearchCV(cv=3, estimator=GradientBoostingRegressor(), n_iter=1,\n",
       "                   n_jobs=-1,\n",
       "                   param_distributions={'loss': ['ls', 'lad'],\n",
       "                                        'n_estimators': [100, 200]})"
      ]
     },
     "execution_count": 107,
     "metadata": {},
     "output_type": "execute_result"
    }
   ],
   "source": [
    "gbm_params = {'n_estimators':[100,200], 'loss':['ls', 'lad']}\n",
    "\n",
    "\n",
    "gbm_model_cv = GradientBoostingRegressor()\n",
    "gbm_model_opt = RandomizedSearchCV(gbm_model_cv, param_distributions= gbm_params, cv=3, n_jobs=-1, n_iter= 1)\n",
    "gbm_model_opt.fit(X_train, y_train)"
   ]
  },
  {
   "cell_type": "code",
   "execution_count": 117,
   "id": "c673c467",
   "metadata": {},
   "outputs": [
    {
     "data": {
      "text/plain": [
       "{'n_estimators': 200, 'loss': 'ls'}"
      ]
     },
     "execution_count": 117,
     "metadata": {},
     "output_type": "execute_result"
    }
   ],
   "source": [
    "gbm_model_opt.best_params_"
   ]
  },
  {
   "cell_type": "code",
   "execution_count": 115,
   "id": "083d95da",
   "metadata": {},
   "outputs": [],
   "source": [
    "# GradientBoostingRegressor(**gbm_model_opt.best_params_)\n",
    "# gbm_model_opt.best_estimator_"
   ]
  },
  {
   "cell_type": "code",
   "execution_count": 119,
   "id": "871ad63e",
   "metadata": {},
   "outputs": [
    {
     "name": "stdout",
     "output_type": "stream",
     "text": [
      "R2 Score for Test Set of Gradient Boosting Regression(Tuned): 0.647\n",
      "Mean Squared Error for Test Set of Gradient Boosting Regression(Tuned): 43745396411.001\n",
      "Root Mean Squared Error for Test Set of Gradient Boosting Regression(Tuned): 209154.002\n"
     ]
    }
   ],
   "source": [
    "gbm_final_model = GradientBoostingRegressor(n_estimators=200, loss='ls').fit(X_train,y_train)\n",
    "y_pred_gbm_tuned = gbm_final_model.predict(X_test)\n",
    "r2_test_gbm_tuned = r2_score(y_test, y_pred_gbm_tuned)\n",
    "mse_test_gbm_tuned = mean_squared_error(y_test,y_pred_gbm_tuned)\n",
    "rmse_test_gbm_tuned = np.sqrt(mean_squared_error(y_test,y_pred_gbm_tuned))\n",
    "\n",
    "print('R2 Score for Test Set of Gradient Boosting Regression(Tuned):', round(r2_test_gbm_tuned,3))\n",
    "print('Mean Squared Error for Test Set of Gradient Boosting Regression(Tuned):', round(mse_test_gbm_tuned,3))\n",
    "print('Root Mean Squared Error for Test Set of Gradient Boosting Regression(Tuned):', round(rmse_test_gbm_tuned,3))"
   ]
  }
 ],
 "metadata": {
  "kernelspec": {
   "display_name": "Python 3",
   "language": "python",
   "name": "python3"
  },
  "language_info": {
   "codemirror_mode": {
    "name": "ipython",
    "version": 3
   },
   "file_extension": ".py",
   "mimetype": "text/x-python",
   "name": "python",
   "nbconvert_exporter": "python",
   "pygments_lexer": "ipython3",
   "version": "3.6.12"
  }
 },
 "nbformat": 4,
 "nbformat_minor": 5
}
