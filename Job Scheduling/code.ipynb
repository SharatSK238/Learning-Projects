{
 "cells": [
  {
   "cell_type": "markdown",
   "id": "d6857928",
   "metadata": {},
   "source": [
    "# Cron-based Scheduling\n",
    "* https://apscheduler.readthedocs.io/en/3.x/modules/triggers/cron.html"
   ]
  },
  {
   "cell_type": "code",
   "execution_count": null,
   "id": "729a253a",
   "metadata": {},
   "outputs": [],
   "source": [
    "from apscheduler.schedulers.blocking import BlockingScheduler\n",
    "sched = BlockingScheduler()\n",
    "@sched.scheduled_job(trigger='cron', day_of_week='sun', start_date='2024-03-31',end_date='2025-03-31',\n",
    "                     hour=16, minute=44, second=59) #Cron-based scheduling\n",
    "\n",
    "#the job that you would like to schedule must be defined in a function.\n",
    "def scheduled_job(): \n",
    "    print(\"Scheduling job is started!!!\")\n",
    "\n",
    "sched.start()"
   ]
  },
  {
   "cell_type": "markdown",
   "id": "b1f4a3c8",
   "metadata": {},
   "source": [
    "# Interval-based Scheduling\n",
    "* https://apscheduler.readthedocs.io/en/3.x/modules/triggers/interval.html"
   ]
  },
  {
   "cell_type": "code",
   "execution_count": null,
   "id": "2cd6df94",
   "metadata": {},
   "outputs": [],
   "source": [
    "from apscheduler.schedulers.blocking import BlockingScheduler\n",
    "def scheduled_job_interval(): \n",
    "    print(\"Scheduling job is started!!!\")\n",
    "\n",
    "sched_interval = BlockingScheduler()\n",
    "sched_interval.add_job(scheduled_job_interval, 'interval', seconds=5) #Interval-based scheduling\n",
    "\n",
    "sched_interval.start()"
   ]
  }
 ],
 "metadata": {
  "kernelspec": {
   "display_name": "Python 3 (ipykernel)",
   "language": "python",
   "name": "python3"
  },
  "language_info": {
   "codemirror_mode": {
    "name": "ipython",
    "version": 3
   },
   "file_extension": ".py",
   "mimetype": "text/x-python",
   "name": "python",
   "nbconvert_exporter": "python",
   "pygments_lexer": "ipython3",
   "version": "3.11.5"
  }
 },
 "nbformat": 4,
 "nbformat_minor": 5
}
